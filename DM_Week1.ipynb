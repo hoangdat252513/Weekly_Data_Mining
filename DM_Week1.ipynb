{
  "nbformat": 4,
  "nbformat_minor": 0,
  "metadata": {
    "colab": {
      "provenance": [],
      "collapsed_sections": [
        "vgmJqt64JPgr",
        "Qk7_lvvPJVcJ",
        "VIaIG60fD_Lf",
        "7j94nfmepb3Y",
        "v1MWScoVcRE_"
      ]
    },
    "kernelspec": {
      "name": "python3",
      "display_name": "Python 3"
    },
    "language_info": {
      "name": "python"
    }
  },
  "cells": [
    {
      "cell_type": "code",
      "execution_count": null,
      "metadata": {
        "id": "em8jFwD4En2R"
      },
      "outputs": [],
      "source": [
        "import pandas as pd\n",
        "import numpy as np\n",
        "import matplotlib.pyplot as plt\n",
        "\n",
        "from sklearn.preprocessing import StandardScaler, MinMaxScaler\n",
        "from sklearn.decomposition import PCA"
      ]
    },
    {
      "cell_type": "markdown",
      "source": [
        "# Load Dataset"
      ],
      "metadata": {
        "id": "vgmJqt64JPgr"
      }
    },
    {
      "cell_type": "code",
      "source": [
        "df = pd.read_csv('https://archive.ics.uci.edu/ml/machine-learning-databases/arrhythmia/arrhythmia.data')"
      ],
      "metadata": {
        "id": "9FZcYDf4HBFJ"
      },
      "execution_count": null,
      "outputs": []
    },
    {
      "cell_type": "code",
      "source": [
        "print(df.shape)\n",
        "df"
      ],
      "metadata": {
        "colab": {
          "base_uri": "https://localhost:8080/"
        },
        "id": "wGSnXa6rHDjK",
        "outputId": "6b93d306-2916-43b9-c8c9-988aa6652c92"
      },
      "execution_count": null,
      "outputs": [
        {
          "output_type": "stream",
          "name": "stdout",
          "text": [
            "(451, 280)\n"
          ]
        },
        {
          "output_type": "execute_result",
          "data": {
            "text/plain": [
              "     75  0  190  80   91  193  371  174  121  -16  ... 0.0.38   9.0  -0.9  \\\n",
              "0    56  1  165  64   81  174  401  149   39   25  ...    0.0   8.5   0.0   \n",
              "1    54  0  172  95  138  163  386  185  102   96  ...    0.0   9.5  -2.4   \n",
              "2    55  0  175  94  100  202  380  179  143   28  ...    0.0  12.2  -2.2   \n",
              "3    75  0  190  80   88  181  360  177  103  -16  ...    0.0  13.1  -3.6   \n",
              "4    13  0  169  51  100  167  321  174   91  107  ...   -0.6  12.2  -2.8   \n",
              "..   .. ..  ...  ..  ...  ...  ...  ...  ...  ...  ...    ...   ...   ...   \n",
              "446  53  1  160  70   80  199  382  154  117  -37  ...    0.0   4.3  -5.0   \n",
              "447  37  0  190  85  100  137  361  201   73   86  ...    0.0  15.6  -1.6   \n",
              "448  36  0  166  68  108  176  365  194  116  -85  ...    0.0  16.3 -28.6   \n",
              "449  32  1  155  55   93  106  386  218   63   54  ...   -0.4  12.0  -0.7   \n",
              "450  78  1  160  70   79  127  364  138   78   28  ...    0.0  10.4  -1.8   \n",
              "\n",
              "    0.0.39 0.0.40  0.9.2  2.9.1  23.3  49.4   8  \n",
              "0      0.0    0.0    0.2    2.1  20.4  38.8   6  \n",
              "1      0.0    0.0    0.3    3.4  12.3  49.0  10  \n",
              "2      0.0    0.0    0.4    2.6  34.6  61.6   1  \n",
              "3      0.0    0.0   -0.1    3.9  25.4  62.8   7  \n",
              "4      0.0    0.0    0.9    2.2  13.5  31.1  14  \n",
              "..     ...    ...    ...    ...   ...   ...  ..  \n",
              "446    0.0    0.0    0.7    0.6  -4.4  -0.5   1  \n",
              "447    0.0    0.0    0.4    2.4  38.0  62.4  10  \n",
              "448    0.0    0.0    1.5    1.0 -44.2 -33.2   2  \n",
              "449    0.0    0.0    0.5    2.4  25.0  46.6   1  \n",
              "450    0.0    0.0    0.5    1.6  21.3  32.8   1  \n",
              "\n",
              "[451 rows x 280 columns]"
            ],
            "text/html": [
              "\n",
              "  <div id=\"df-8f36f0ea-3cd1-4a55-a110-4802f7c30ab7\">\n",
              "    <div class=\"colab-df-container\">\n",
              "      <div>\n",
              "<style scoped>\n",
              "    .dataframe tbody tr th:only-of-type {\n",
              "        vertical-align: middle;\n",
              "    }\n",
              "\n",
              "    .dataframe tbody tr th {\n",
              "        vertical-align: top;\n",
              "    }\n",
              "\n",
              "    .dataframe thead th {\n",
              "        text-align: right;\n",
              "    }\n",
              "</style>\n",
              "<table border=\"1\" class=\"dataframe\">\n",
              "  <thead>\n",
              "    <tr style=\"text-align: right;\">\n",
              "      <th></th>\n",
              "      <th>75</th>\n",
              "      <th>0</th>\n",
              "      <th>190</th>\n",
              "      <th>80</th>\n",
              "      <th>91</th>\n",
              "      <th>193</th>\n",
              "      <th>371</th>\n",
              "      <th>174</th>\n",
              "      <th>121</th>\n",
              "      <th>-16</th>\n",
              "      <th>...</th>\n",
              "      <th>0.0.38</th>\n",
              "      <th>9.0</th>\n",
              "      <th>-0.9</th>\n",
              "      <th>0.0.39</th>\n",
              "      <th>0.0.40</th>\n",
              "      <th>0.9.2</th>\n",
              "      <th>2.9.1</th>\n",
              "      <th>23.3</th>\n",
              "      <th>49.4</th>\n",
              "      <th>8</th>\n",
              "    </tr>\n",
              "  </thead>\n",
              "  <tbody>\n",
              "    <tr>\n",
              "      <th>0</th>\n",
              "      <td>56</td>\n",
              "      <td>1</td>\n",
              "      <td>165</td>\n",
              "      <td>64</td>\n",
              "      <td>81</td>\n",
              "      <td>174</td>\n",
              "      <td>401</td>\n",
              "      <td>149</td>\n",
              "      <td>39</td>\n",
              "      <td>25</td>\n",
              "      <td>...</td>\n",
              "      <td>0.0</td>\n",
              "      <td>8.5</td>\n",
              "      <td>0.0</td>\n",
              "      <td>0.0</td>\n",
              "      <td>0.0</td>\n",
              "      <td>0.2</td>\n",
              "      <td>2.1</td>\n",
              "      <td>20.4</td>\n",
              "      <td>38.8</td>\n",
              "      <td>6</td>\n",
              "    </tr>\n",
              "    <tr>\n",
              "      <th>1</th>\n",
              "      <td>54</td>\n",
              "      <td>0</td>\n",
              "      <td>172</td>\n",
              "      <td>95</td>\n",
              "      <td>138</td>\n",
              "      <td>163</td>\n",
              "      <td>386</td>\n",
              "      <td>185</td>\n",
              "      <td>102</td>\n",
              "      <td>96</td>\n",
              "      <td>...</td>\n",
              "      <td>0.0</td>\n",
              "      <td>9.5</td>\n",
              "      <td>-2.4</td>\n",
              "      <td>0.0</td>\n",
              "      <td>0.0</td>\n",
              "      <td>0.3</td>\n",
              "      <td>3.4</td>\n",
              "      <td>12.3</td>\n",
              "      <td>49.0</td>\n",
              "      <td>10</td>\n",
              "    </tr>\n",
              "    <tr>\n",
              "      <th>2</th>\n",
              "      <td>55</td>\n",
              "      <td>0</td>\n",
              "      <td>175</td>\n",
              "      <td>94</td>\n",
              "      <td>100</td>\n",
              "      <td>202</td>\n",
              "      <td>380</td>\n",
              "      <td>179</td>\n",
              "      <td>143</td>\n",
              "      <td>28</td>\n",
              "      <td>...</td>\n",
              "      <td>0.0</td>\n",
              "      <td>12.2</td>\n",
              "      <td>-2.2</td>\n",
              "      <td>0.0</td>\n",
              "      <td>0.0</td>\n",
              "      <td>0.4</td>\n",
              "      <td>2.6</td>\n",
              "      <td>34.6</td>\n",
              "      <td>61.6</td>\n",
              "      <td>1</td>\n",
              "    </tr>\n",
              "    <tr>\n",
              "      <th>3</th>\n",
              "      <td>75</td>\n",
              "      <td>0</td>\n",
              "      <td>190</td>\n",
              "      <td>80</td>\n",
              "      <td>88</td>\n",
              "      <td>181</td>\n",
              "      <td>360</td>\n",
              "      <td>177</td>\n",
              "      <td>103</td>\n",
              "      <td>-16</td>\n",
              "      <td>...</td>\n",
              "      <td>0.0</td>\n",
              "      <td>13.1</td>\n",
              "      <td>-3.6</td>\n",
              "      <td>0.0</td>\n",
              "      <td>0.0</td>\n",
              "      <td>-0.1</td>\n",
              "      <td>3.9</td>\n",
              "      <td>25.4</td>\n",
              "      <td>62.8</td>\n",
              "      <td>7</td>\n",
              "    </tr>\n",
              "    <tr>\n",
              "      <th>4</th>\n",
              "      <td>13</td>\n",
              "      <td>0</td>\n",
              "      <td>169</td>\n",
              "      <td>51</td>\n",
              "      <td>100</td>\n",
              "      <td>167</td>\n",
              "      <td>321</td>\n",
              "      <td>174</td>\n",
              "      <td>91</td>\n",
              "      <td>107</td>\n",
              "      <td>...</td>\n",
              "      <td>-0.6</td>\n",
              "      <td>12.2</td>\n",
              "      <td>-2.8</td>\n",
              "      <td>0.0</td>\n",
              "      <td>0.0</td>\n",
              "      <td>0.9</td>\n",
              "      <td>2.2</td>\n",
              "      <td>13.5</td>\n",
              "      <td>31.1</td>\n",
              "      <td>14</td>\n",
              "    </tr>\n",
              "    <tr>\n",
              "      <th>...</th>\n",
              "      <td>...</td>\n",
              "      <td>...</td>\n",
              "      <td>...</td>\n",
              "      <td>...</td>\n",
              "      <td>...</td>\n",
              "      <td>...</td>\n",
              "      <td>...</td>\n",
              "      <td>...</td>\n",
              "      <td>...</td>\n",
              "      <td>...</td>\n",
              "      <td>...</td>\n",
              "      <td>...</td>\n",
              "      <td>...</td>\n",
              "      <td>...</td>\n",
              "      <td>...</td>\n",
              "      <td>...</td>\n",
              "      <td>...</td>\n",
              "      <td>...</td>\n",
              "      <td>...</td>\n",
              "      <td>...</td>\n",
              "      <td>...</td>\n",
              "    </tr>\n",
              "    <tr>\n",
              "      <th>446</th>\n",
              "      <td>53</td>\n",
              "      <td>1</td>\n",
              "      <td>160</td>\n",
              "      <td>70</td>\n",
              "      <td>80</td>\n",
              "      <td>199</td>\n",
              "      <td>382</td>\n",
              "      <td>154</td>\n",
              "      <td>117</td>\n",
              "      <td>-37</td>\n",
              "      <td>...</td>\n",
              "      <td>0.0</td>\n",
              "      <td>4.3</td>\n",
              "      <td>-5.0</td>\n",
              "      <td>0.0</td>\n",
              "      <td>0.0</td>\n",
              "      <td>0.7</td>\n",
              "      <td>0.6</td>\n",
              "      <td>-4.4</td>\n",
              "      <td>-0.5</td>\n",
              "      <td>1</td>\n",
              "    </tr>\n",
              "    <tr>\n",
              "      <th>447</th>\n",
              "      <td>37</td>\n",
              "      <td>0</td>\n",
              "      <td>190</td>\n",
              "      <td>85</td>\n",
              "      <td>100</td>\n",
              "      <td>137</td>\n",
              "      <td>361</td>\n",
              "      <td>201</td>\n",
              "      <td>73</td>\n",
              "      <td>86</td>\n",
              "      <td>...</td>\n",
              "      <td>0.0</td>\n",
              "      <td>15.6</td>\n",
              "      <td>-1.6</td>\n",
              "      <td>0.0</td>\n",
              "      <td>0.0</td>\n",
              "      <td>0.4</td>\n",
              "      <td>2.4</td>\n",
              "      <td>38.0</td>\n",
              "      <td>62.4</td>\n",
              "      <td>10</td>\n",
              "    </tr>\n",
              "    <tr>\n",
              "      <th>448</th>\n",
              "      <td>36</td>\n",
              "      <td>0</td>\n",
              "      <td>166</td>\n",
              "      <td>68</td>\n",
              "      <td>108</td>\n",
              "      <td>176</td>\n",
              "      <td>365</td>\n",
              "      <td>194</td>\n",
              "      <td>116</td>\n",
              "      <td>-85</td>\n",
              "      <td>...</td>\n",
              "      <td>0.0</td>\n",
              "      <td>16.3</td>\n",
              "      <td>-28.6</td>\n",
              "      <td>0.0</td>\n",
              "      <td>0.0</td>\n",
              "      <td>1.5</td>\n",
              "      <td>1.0</td>\n",
              "      <td>-44.2</td>\n",
              "      <td>-33.2</td>\n",
              "      <td>2</td>\n",
              "    </tr>\n",
              "    <tr>\n",
              "      <th>449</th>\n",
              "      <td>32</td>\n",
              "      <td>1</td>\n",
              "      <td>155</td>\n",
              "      <td>55</td>\n",
              "      <td>93</td>\n",
              "      <td>106</td>\n",
              "      <td>386</td>\n",
              "      <td>218</td>\n",
              "      <td>63</td>\n",
              "      <td>54</td>\n",
              "      <td>...</td>\n",
              "      <td>-0.4</td>\n",
              "      <td>12.0</td>\n",
              "      <td>-0.7</td>\n",
              "      <td>0.0</td>\n",
              "      <td>0.0</td>\n",
              "      <td>0.5</td>\n",
              "      <td>2.4</td>\n",
              "      <td>25.0</td>\n",
              "      <td>46.6</td>\n",
              "      <td>1</td>\n",
              "    </tr>\n",
              "    <tr>\n",
              "      <th>450</th>\n",
              "      <td>78</td>\n",
              "      <td>1</td>\n",
              "      <td>160</td>\n",
              "      <td>70</td>\n",
              "      <td>79</td>\n",
              "      <td>127</td>\n",
              "      <td>364</td>\n",
              "      <td>138</td>\n",
              "      <td>78</td>\n",
              "      <td>28</td>\n",
              "      <td>...</td>\n",
              "      <td>0.0</td>\n",
              "      <td>10.4</td>\n",
              "      <td>-1.8</td>\n",
              "      <td>0.0</td>\n",
              "      <td>0.0</td>\n",
              "      <td>0.5</td>\n",
              "      <td>1.6</td>\n",
              "      <td>21.3</td>\n",
              "      <td>32.8</td>\n",
              "      <td>1</td>\n",
              "    </tr>\n",
              "  </tbody>\n",
              "</table>\n",
              "<p>451 rows × 280 columns</p>\n",
              "</div>\n",
              "      <button class=\"colab-df-convert\" onclick=\"convertToInteractive('df-8f36f0ea-3cd1-4a55-a110-4802f7c30ab7')\"\n",
              "              title=\"Convert this dataframe to an interactive table.\"\n",
              "              style=\"display:none;\">\n",
              "        \n",
              "  <svg xmlns=\"http://www.w3.org/2000/svg\" height=\"24px\"viewBox=\"0 0 24 24\"\n",
              "       width=\"24px\">\n",
              "    <path d=\"M0 0h24v24H0V0z\" fill=\"none\"/>\n",
              "    <path d=\"M18.56 5.44l.94 2.06.94-2.06 2.06-.94-2.06-.94-.94-2.06-.94 2.06-2.06.94zm-11 1L8.5 8.5l.94-2.06 2.06-.94-2.06-.94L8.5 2.5l-.94 2.06-2.06.94zm10 10l.94 2.06.94-2.06 2.06-.94-2.06-.94-.94-2.06-.94 2.06-2.06.94z\"/><path d=\"M17.41 7.96l-1.37-1.37c-.4-.4-.92-.59-1.43-.59-.52 0-1.04.2-1.43.59L10.3 9.45l-7.72 7.72c-.78.78-.78 2.05 0 2.83L4 21.41c.39.39.9.59 1.41.59.51 0 1.02-.2 1.41-.59l7.78-7.78 2.81-2.81c.8-.78.8-2.07 0-2.86zM5.41 20L4 18.59l7.72-7.72 1.47 1.35L5.41 20z\"/>\n",
              "  </svg>\n",
              "      </button>\n",
              "      \n",
              "  <style>\n",
              "    .colab-df-container {\n",
              "      display:flex;\n",
              "      flex-wrap:wrap;\n",
              "      gap: 12px;\n",
              "    }\n",
              "\n",
              "    .colab-df-convert {\n",
              "      background-color: #E8F0FE;\n",
              "      border: none;\n",
              "      border-radius: 50%;\n",
              "      cursor: pointer;\n",
              "      display: none;\n",
              "      fill: #1967D2;\n",
              "      height: 32px;\n",
              "      padding: 0 0 0 0;\n",
              "      width: 32px;\n",
              "    }\n",
              "\n",
              "    .colab-df-convert:hover {\n",
              "      background-color: #E2EBFA;\n",
              "      box-shadow: 0px 1px 2px rgba(60, 64, 67, 0.3), 0px 1px 3px 1px rgba(60, 64, 67, 0.15);\n",
              "      fill: #174EA6;\n",
              "    }\n",
              "\n",
              "    [theme=dark] .colab-df-convert {\n",
              "      background-color: #3B4455;\n",
              "      fill: #D2E3FC;\n",
              "    }\n",
              "\n",
              "    [theme=dark] .colab-df-convert:hover {\n",
              "      background-color: #434B5C;\n",
              "      box-shadow: 0px 1px 3px 1px rgba(0, 0, 0, 0.15);\n",
              "      filter: drop-shadow(0px 1px 2px rgba(0, 0, 0, 0.3));\n",
              "      fill: #FFFFFF;\n",
              "    }\n",
              "  </style>\n",
              "\n",
              "      <script>\n",
              "        const buttonEl =\n",
              "          document.querySelector('#df-8f36f0ea-3cd1-4a55-a110-4802f7c30ab7 button.colab-df-convert');\n",
              "        buttonEl.style.display =\n",
              "          google.colab.kernel.accessAllowed ? 'block' : 'none';\n",
              "\n",
              "        async function convertToInteractive(key) {\n",
              "          const element = document.querySelector('#df-8f36f0ea-3cd1-4a55-a110-4802f7c30ab7');\n",
              "          const dataTable =\n",
              "            await google.colab.kernel.invokeFunction('convertToInteractive',\n",
              "                                                     [key], {});\n",
              "          if (!dataTable) return;\n",
              "\n",
              "          const docLinkHtml = 'Like what you see? Visit the ' +\n",
              "            '<a target=\"_blank\" href=https://colab.research.google.com/notebooks/data_table.ipynb>data table notebook</a>'\n",
              "            + ' to learn more about interactive tables.';\n",
              "          element.innerHTML = '';\n",
              "          dataTable['output_type'] = 'display_data';\n",
              "          await google.colab.output.renderOutput(dataTable, element);\n",
              "          const docLink = document.createElement('div');\n",
              "          docLink.innerHTML = docLinkHtml;\n",
              "          element.appendChild(docLink);\n",
              "        }\n",
              "      </script>\n",
              "    </div>\n",
              "  </div>\n",
              "  "
            ]
          },
          "metadata": {},
          "execution_count": 6
        }
      ]
    },
    {
      "cell_type": "markdown",
      "source": [
        "# Data Preprocessing"
      ],
      "metadata": {
        "id": "Qk7_lvvPJVcJ"
      }
    },
    {
      "cell_type": "code",
      "source": [
        "df.info()"
      ],
      "metadata": {
        "colab": {
          "base_uri": "https://localhost:8080/"
        },
        "id": "6hTAWmCLHeUj",
        "outputId": "979add0e-06ef-44e5-bb60-680c212f132a"
      },
      "execution_count": null,
      "outputs": [
        {
          "output_type": "stream",
          "name": "stdout",
          "text": [
            "<class 'pandas.core.frame.DataFrame'>\n",
            "RangeIndex: 451 entries, 0 to 450\n",
            "Columns: 280 entries, 75 to 8\n",
            "dtypes: float64(120), int64(155), object(5)\n",
            "memory usage: 986.7+ KB\n"
          ]
        }
      ]
    },
    {
      "cell_type": "markdown",
      "source": [
        "There are 5 features have object type, so its must be some character is unnumerical"
      ],
      "metadata": {
        "id": "Shprm1szKixB"
      }
    },
    {
      "cell_type": "code",
      "source": [
        "# integer_columns = df.select_dtypes(include=['int64']).columns\n",
        "# float_columns = df.select_dtypes(include=['float64']).columns\n",
        "object_columns = df.select_dtypes(include=['object']).columns"
      ],
      "metadata": {
        "id": "ZSH-gKWSHfOc"
      },
      "execution_count": null,
      "outputs": []
    },
    {
      "cell_type": "code",
      "source": [
        "object_columns"
      ],
      "metadata": {
        "colab": {
          "base_uri": "https://localhost:8080/"
        },
        "id": "xvoOqkycHvEk",
        "outputId": "670e19c8-ec44-48d1-fb53-b7cda3f013e7"
      },
      "execution_count": null,
      "outputs": [
        {
          "output_type": "execute_result",
          "data": {
            "text/plain": [
              "Index(['13', '64', '-2', '?', '63'], dtype='object')"
            ]
          },
          "metadata": {},
          "execution_count": 9
        }
      ]
    },
    {
      "cell_type": "code",
      "source": [
        "df[object_columns]"
      ],
      "metadata": {
        "colab": {
          "base_uri": "https://localhost:8080/"
        },
        "id": "b2Yuj_VAJYG2",
        "outputId": "d53598ca-5284-49a2-b707-821ca5c0edca"
      },
      "execution_count": null,
      "outputs": [
        {
          "output_type": "execute_result",
          "data": {
            "text/plain": [
              "      13   64   -2    ?  63\n",
              "0     37  -17   31    ?  53\n",
              "1     34   70   66   23  75\n",
              "2     11   -5   20    ?  71\n",
              "3     13   61    3    ?   ?\n",
              "4     66   52   88    ?  84\n",
              "..   ...  ...  ...  ...  ..\n",
              "446    4   40  -27    ?  63\n",
              "447   66   52   79    ?  73\n",
              "448  -19  -61  -70   84  84\n",
              "449   29  -22   43  103  80\n",
              "450   79   52   47    ?  75\n",
              "\n",
              "[451 rows x 5 columns]"
            ],
            "text/html": [
              "\n",
              "  <div id=\"df-bb891782-741c-43f9-841b-4467339fa339\">\n",
              "    <div class=\"colab-df-container\">\n",
              "      <div>\n",
              "<style scoped>\n",
              "    .dataframe tbody tr th:only-of-type {\n",
              "        vertical-align: middle;\n",
              "    }\n",
              "\n",
              "    .dataframe tbody tr th {\n",
              "        vertical-align: top;\n",
              "    }\n",
              "\n",
              "    .dataframe thead th {\n",
              "        text-align: right;\n",
              "    }\n",
              "</style>\n",
              "<table border=\"1\" class=\"dataframe\">\n",
              "  <thead>\n",
              "    <tr style=\"text-align: right;\">\n",
              "      <th></th>\n",
              "      <th>13</th>\n",
              "      <th>64</th>\n",
              "      <th>-2</th>\n",
              "      <th>?</th>\n",
              "      <th>63</th>\n",
              "    </tr>\n",
              "  </thead>\n",
              "  <tbody>\n",
              "    <tr>\n",
              "      <th>0</th>\n",
              "      <td>37</td>\n",
              "      <td>-17</td>\n",
              "      <td>31</td>\n",
              "      <td>?</td>\n",
              "      <td>53</td>\n",
              "    </tr>\n",
              "    <tr>\n",
              "      <th>1</th>\n",
              "      <td>34</td>\n",
              "      <td>70</td>\n",
              "      <td>66</td>\n",
              "      <td>23</td>\n",
              "      <td>75</td>\n",
              "    </tr>\n",
              "    <tr>\n",
              "      <th>2</th>\n",
              "      <td>11</td>\n",
              "      <td>-5</td>\n",
              "      <td>20</td>\n",
              "      <td>?</td>\n",
              "      <td>71</td>\n",
              "    </tr>\n",
              "    <tr>\n",
              "      <th>3</th>\n",
              "      <td>13</td>\n",
              "      <td>61</td>\n",
              "      <td>3</td>\n",
              "      <td>?</td>\n",
              "      <td>?</td>\n",
              "    </tr>\n",
              "    <tr>\n",
              "      <th>4</th>\n",
              "      <td>66</td>\n",
              "      <td>52</td>\n",
              "      <td>88</td>\n",
              "      <td>?</td>\n",
              "      <td>84</td>\n",
              "    </tr>\n",
              "    <tr>\n",
              "      <th>...</th>\n",
              "      <td>...</td>\n",
              "      <td>...</td>\n",
              "      <td>...</td>\n",
              "      <td>...</td>\n",
              "      <td>...</td>\n",
              "    </tr>\n",
              "    <tr>\n",
              "      <th>446</th>\n",
              "      <td>4</td>\n",
              "      <td>40</td>\n",
              "      <td>-27</td>\n",
              "      <td>?</td>\n",
              "      <td>63</td>\n",
              "    </tr>\n",
              "    <tr>\n",
              "      <th>447</th>\n",
              "      <td>66</td>\n",
              "      <td>52</td>\n",
              "      <td>79</td>\n",
              "      <td>?</td>\n",
              "      <td>73</td>\n",
              "    </tr>\n",
              "    <tr>\n",
              "      <th>448</th>\n",
              "      <td>-19</td>\n",
              "      <td>-61</td>\n",
              "      <td>-70</td>\n",
              "      <td>84</td>\n",
              "      <td>84</td>\n",
              "    </tr>\n",
              "    <tr>\n",
              "      <th>449</th>\n",
              "      <td>29</td>\n",
              "      <td>-22</td>\n",
              "      <td>43</td>\n",
              "      <td>103</td>\n",
              "      <td>80</td>\n",
              "    </tr>\n",
              "    <tr>\n",
              "      <th>450</th>\n",
              "      <td>79</td>\n",
              "      <td>52</td>\n",
              "      <td>47</td>\n",
              "      <td>?</td>\n",
              "      <td>75</td>\n",
              "    </tr>\n",
              "  </tbody>\n",
              "</table>\n",
              "<p>451 rows × 5 columns</p>\n",
              "</div>\n",
              "      <button class=\"colab-df-convert\" onclick=\"convertToInteractive('df-bb891782-741c-43f9-841b-4467339fa339')\"\n",
              "              title=\"Convert this dataframe to an interactive table.\"\n",
              "              style=\"display:none;\">\n",
              "        \n",
              "  <svg xmlns=\"http://www.w3.org/2000/svg\" height=\"24px\"viewBox=\"0 0 24 24\"\n",
              "       width=\"24px\">\n",
              "    <path d=\"M0 0h24v24H0V0z\" fill=\"none\"/>\n",
              "    <path d=\"M18.56 5.44l.94 2.06.94-2.06 2.06-.94-2.06-.94-.94-2.06-.94 2.06-2.06.94zm-11 1L8.5 8.5l.94-2.06 2.06-.94-2.06-.94L8.5 2.5l-.94 2.06-2.06.94zm10 10l.94 2.06.94-2.06 2.06-.94-2.06-.94-.94-2.06-.94 2.06-2.06.94z\"/><path d=\"M17.41 7.96l-1.37-1.37c-.4-.4-.92-.59-1.43-.59-.52 0-1.04.2-1.43.59L10.3 9.45l-7.72 7.72c-.78.78-.78 2.05 0 2.83L4 21.41c.39.39.9.59 1.41.59.51 0 1.02-.2 1.41-.59l7.78-7.78 2.81-2.81c.8-.78.8-2.07 0-2.86zM5.41 20L4 18.59l7.72-7.72 1.47 1.35L5.41 20z\"/>\n",
              "  </svg>\n",
              "      </button>\n",
              "      \n",
              "  <style>\n",
              "    .colab-df-container {\n",
              "      display:flex;\n",
              "      flex-wrap:wrap;\n",
              "      gap: 12px;\n",
              "    }\n",
              "\n",
              "    .colab-df-convert {\n",
              "      background-color: #E8F0FE;\n",
              "      border: none;\n",
              "      border-radius: 50%;\n",
              "      cursor: pointer;\n",
              "      display: none;\n",
              "      fill: #1967D2;\n",
              "      height: 32px;\n",
              "      padding: 0 0 0 0;\n",
              "      width: 32px;\n",
              "    }\n",
              "\n",
              "    .colab-df-convert:hover {\n",
              "      background-color: #E2EBFA;\n",
              "      box-shadow: 0px 1px 2px rgba(60, 64, 67, 0.3), 0px 1px 3px 1px rgba(60, 64, 67, 0.15);\n",
              "      fill: #174EA6;\n",
              "    }\n",
              "\n",
              "    [theme=dark] .colab-df-convert {\n",
              "      background-color: #3B4455;\n",
              "      fill: #D2E3FC;\n",
              "    }\n",
              "\n",
              "    [theme=dark] .colab-df-convert:hover {\n",
              "      background-color: #434B5C;\n",
              "      box-shadow: 0px 1px 3px 1px rgba(0, 0, 0, 0.15);\n",
              "      filter: drop-shadow(0px 1px 2px rgba(0, 0, 0, 0.3));\n",
              "      fill: #FFFFFF;\n",
              "    }\n",
              "  </style>\n",
              "\n",
              "      <script>\n",
              "        const buttonEl =\n",
              "          document.querySelector('#df-bb891782-741c-43f9-841b-4467339fa339 button.colab-df-convert');\n",
              "        buttonEl.style.display =\n",
              "          google.colab.kernel.accessAllowed ? 'block' : 'none';\n",
              "\n",
              "        async function convertToInteractive(key) {\n",
              "          const element = document.querySelector('#df-bb891782-741c-43f9-841b-4467339fa339');\n",
              "          const dataTable =\n",
              "            await google.colab.kernel.invokeFunction('convertToInteractive',\n",
              "                                                     [key], {});\n",
              "          if (!dataTable) return;\n",
              "\n",
              "          const docLinkHtml = 'Like what you see? Visit the ' +\n",
              "            '<a target=\"_blank\" href=https://colab.research.google.com/notebooks/data_table.ipynb>data table notebook</a>'\n",
              "            + ' to learn more about interactive tables.';\n",
              "          element.innerHTML = '';\n",
              "          dataTable['output_type'] = 'display_data';\n",
              "          await google.colab.output.renderOutput(dataTable, element);\n",
              "          const docLink = document.createElement('div');\n",
              "          docLink.innerHTML = docLinkHtml;\n",
              "          element.appendChild(docLink);\n",
              "        }\n",
              "      </script>\n",
              "    </div>\n",
              "  </div>\n",
              "  "
            ]
          },
          "metadata": {},
          "execution_count": 10
        }
      ]
    },
    {
      "cell_type": "code",
      "source": [
        "df = df.replace('?', np.NaN)"
      ],
      "metadata": {
        "id": "ZePz_NTKIGGx"
      },
      "execution_count": null,
      "outputs": []
    },
    {
      "cell_type": "code",
      "source": [
        "df.isnull().sum().sum()\n",
        "# There is 407 values is NaN"
      ],
      "metadata": {
        "colab": {
          "base_uri": "https://localhost:8080/"
        },
        "id": "fxJSMgBcKLvz",
        "outputId": "a09e8c0c-4b6a-4255-af36-a62475403226"
      },
      "execution_count": null,
      "outputs": [
        {
          "output_type": "execute_result",
          "data": {
            "text/plain": [
              "407"
            ]
          },
          "metadata": {},
          "execution_count": 12
        }
      ]
    },
    {
      "cell_type": "code",
      "source": [
        "df = df.dropna()"
      ],
      "metadata": {
        "id": "mcpFdPZUKZcG"
      },
      "execution_count": null,
      "outputs": []
    },
    {
      "cell_type": "code",
      "source": [
        "df[object_columns].describe()"
      ],
      "metadata": {
        "colab": {
          "base_uri": "https://localhost:8080/"
        },
        "id": "6TE8_-jmIP84",
        "outputId": "9dcacb09-b187-449b-ae25-29973567b9a4"
      },
      "execution_count": null,
      "outputs": [
        {
          "output_type": "execute_result",
          "data": {
            "text/plain": [
              "         13  64  -2   ?  63\n",
              "count    68  68  68  68  68\n",
              "unique   62  49  59  61  34\n",
              "top     179  68  69  84  72\n",
              "freq      2   5   3   3   5"
            ],
            "text/html": [
              "\n",
              "  <div id=\"df-f07b180a-3a3c-4261-8b90-c38d7dcdc0d9\">\n",
              "    <div class=\"colab-df-container\">\n",
              "      <div>\n",
              "<style scoped>\n",
              "    .dataframe tbody tr th:only-of-type {\n",
              "        vertical-align: middle;\n",
              "    }\n",
              "\n",
              "    .dataframe tbody tr th {\n",
              "        vertical-align: top;\n",
              "    }\n",
              "\n",
              "    .dataframe thead th {\n",
              "        text-align: right;\n",
              "    }\n",
              "</style>\n",
              "<table border=\"1\" class=\"dataframe\">\n",
              "  <thead>\n",
              "    <tr style=\"text-align: right;\">\n",
              "      <th></th>\n",
              "      <th>13</th>\n",
              "      <th>64</th>\n",
              "      <th>-2</th>\n",
              "      <th>?</th>\n",
              "      <th>63</th>\n",
              "    </tr>\n",
              "  </thead>\n",
              "  <tbody>\n",
              "    <tr>\n",
              "      <th>count</th>\n",
              "      <td>68</td>\n",
              "      <td>68</td>\n",
              "      <td>68</td>\n",
              "      <td>68</td>\n",
              "      <td>68</td>\n",
              "    </tr>\n",
              "    <tr>\n",
              "      <th>unique</th>\n",
              "      <td>62</td>\n",
              "      <td>49</td>\n",
              "      <td>59</td>\n",
              "      <td>61</td>\n",
              "      <td>34</td>\n",
              "    </tr>\n",
              "    <tr>\n",
              "      <th>top</th>\n",
              "      <td>179</td>\n",
              "      <td>68</td>\n",
              "      <td>69</td>\n",
              "      <td>84</td>\n",
              "      <td>72</td>\n",
              "    </tr>\n",
              "    <tr>\n",
              "      <th>freq</th>\n",
              "      <td>2</td>\n",
              "      <td>5</td>\n",
              "      <td>3</td>\n",
              "      <td>3</td>\n",
              "      <td>5</td>\n",
              "    </tr>\n",
              "  </tbody>\n",
              "</table>\n",
              "</div>\n",
              "      <button class=\"colab-df-convert\" onclick=\"convertToInteractive('df-f07b180a-3a3c-4261-8b90-c38d7dcdc0d9')\"\n",
              "              title=\"Convert this dataframe to an interactive table.\"\n",
              "              style=\"display:none;\">\n",
              "        \n",
              "  <svg xmlns=\"http://www.w3.org/2000/svg\" height=\"24px\"viewBox=\"0 0 24 24\"\n",
              "       width=\"24px\">\n",
              "    <path d=\"M0 0h24v24H0V0z\" fill=\"none\"/>\n",
              "    <path d=\"M18.56 5.44l.94 2.06.94-2.06 2.06-.94-2.06-.94-.94-2.06-.94 2.06-2.06.94zm-11 1L8.5 8.5l.94-2.06 2.06-.94-2.06-.94L8.5 2.5l-.94 2.06-2.06.94zm10 10l.94 2.06.94-2.06 2.06-.94-2.06-.94-.94-2.06-.94 2.06-2.06.94z\"/><path d=\"M17.41 7.96l-1.37-1.37c-.4-.4-.92-.59-1.43-.59-.52 0-1.04.2-1.43.59L10.3 9.45l-7.72 7.72c-.78.78-.78 2.05 0 2.83L4 21.41c.39.39.9.59 1.41.59.51 0 1.02-.2 1.41-.59l7.78-7.78 2.81-2.81c.8-.78.8-2.07 0-2.86zM5.41 20L4 18.59l7.72-7.72 1.47 1.35L5.41 20z\"/>\n",
              "  </svg>\n",
              "      </button>\n",
              "      \n",
              "  <style>\n",
              "    .colab-df-container {\n",
              "      display:flex;\n",
              "      flex-wrap:wrap;\n",
              "      gap: 12px;\n",
              "    }\n",
              "\n",
              "    .colab-df-convert {\n",
              "      background-color: #E8F0FE;\n",
              "      border: none;\n",
              "      border-radius: 50%;\n",
              "      cursor: pointer;\n",
              "      display: none;\n",
              "      fill: #1967D2;\n",
              "      height: 32px;\n",
              "      padding: 0 0 0 0;\n",
              "      width: 32px;\n",
              "    }\n",
              "\n",
              "    .colab-df-convert:hover {\n",
              "      background-color: #E2EBFA;\n",
              "      box-shadow: 0px 1px 2px rgba(60, 64, 67, 0.3), 0px 1px 3px 1px rgba(60, 64, 67, 0.15);\n",
              "      fill: #174EA6;\n",
              "    }\n",
              "\n",
              "    [theme=dark] .colab-df-convert {\n",
              "      background-color: #3B4455;\n",
              "      fill: #D2E3FC;\n",
              "    }\n",
              "\n",
              "    [theme=dark] .colab-df-convert:hover {\n",
              "      background-color: #434B5C;\n",
              "      box-shadow: 0px 1px 3px 1px rgba(0, 0, 0, 0.15);\n",
              "      filter: drop-shadow(0px 1px 2px rgba(0, 0, 0, 0.3));\n",
              "      fill: #FFFFFF;\n",
              "    }\n",
              "  </style>\n",
              "\n",
              "      <script>\n",
              "        const buttonEl =\n",
              "          document.querySelector('#df-f07b180a-3a3c-4261-8b90-c38d7dcdc0d9 button.colab-df-convert');\n",
              "        buttonEl.style.display =\n",
              "          google.colab.kernel.accessAllowed ? 'block' : 'none';\n",
              "\n",
              "        async function convertToInteractive(key) {\n",
              "          const element = document.querySelector('#df-f07b180a-3a3c-4261-8b90-c38d7dcdc0d9');\n",
              "          const dataTable =\n",
              "            await google.colab.kernel.invokeFunction('convertToInteractive',\n",
              "                                                     [key], {});\n",
              "          if (!dataTable) return;\n",
              "\n",
              "          const docLinkHtml = 'Like what you see? Visit the ' +\n",
              "            '<a target=\"_blank\" href=https://colab.research.google.com/notebooks/data_table.ipynb>data table notebook</a>'\n",
              "            + ' to learn more about interactive tables.';\n",
              "          element.innerHTML = '';\n",
              "          dataTable['output_type'] = 'display_data';\n",
              "          await google.colab.output.renderOutput(dataTable, element);\n",
              "          const docLink = document.createElement('div');\n",
              "          docLink.innerHTML = docLinkHtml;\n",
              "          element.appendChild(docLink);\n",
              "        }\n",
              "      </script>\n",
              "    </div>\n",
              "  </div>\n",
              "  "
            ]
          },
          "metadata": {},
          "execution_count": 14
        }
      ]
    },
    {
      "cell_type": "code",
      "source": [
        "df.describe()"
      ],
      "metadata": {
        "colab": {
          "base_uri": "https://localhost:8080/"
        },
        "id": "u2LnctcZK6RP",
        "outputId": "4ee36adb-054d-4e42-c652-6f88fc3737a1"
      },
      "execution_count": null,
      "outputs": [
        {
          "output_type": "execute_result",
          "data": {
            "text/plain": [
              "              75          0         190          80          91         193  \\\n",
              "count  68.000000  68.000000   68.000000   68.000000   68.000000   68.000000   \n",
              "mean   46.882353   0.470588  162.352941   71.720588  102.808824  158.102941   \n",
              "std    17.024591   0.502845   11.826816   22.437871   27.397166   33.600435   \n",
              "min     7.000000   0.000000  119.000000   21.000000   55.000000    0.000000   \n",
              "25%    36.750000   0.000000  160.000000   63.750000   84.750000  147.750000   \n",
              "50%    47.000000   0.000000  164.500000   70.000000   96.000000  160.000000   \n",
              "75%    61.250000   1.000000  170.000000   82.000000  108.000000  173.000000   \n",
              "max    75.000000   1.000000  182.000000  176.000000  188.000000  294.000000   \n",
              "\n",
              "              371         174         121         -16  ...     0.0.38  \\\n",
              "count   68.000000   68.000000   68.000000   68.000000  ...  68.000000   \n",
              "mean   369.500000  195.470588   92.941176   20.426471  ...  -0.391176   \n",
              "std     43.843514   46.701807   21.549583   55.769332  ...   0.723535   \n",
              "min    241.000000  123.000000    0.000000 -172.000000  ...  -3.500000   \n",
              "25%    349.500000  159.750000   82.000000   -7.500000  ...  -0.625000   \n",
              "50%    369.500000  184.000000   94.500000   25.000000  ...   0.000000   \n",
              "75%    389.000000  231.000000  102.000000   60.250000  ...   0.000000   \n",
              "max    509.000000  327.000000  143.000000  155.000000  ...   0.000000   \n",
              "\n",
              "             9.0       -0.9  0.0.39  0.0.40      0.9.2      2.9.1       23.3  \\\n",
              "count  68.000000  68.000000    68.0    68.0  68.000000  68.000000  68.000000   \n",
              "mean    9.535294  -2.079412     0.0     0.0   0.583824   0.230882  21.873529   \n",
              "std     4.249768   4.021270     0.0     0.0   0.419883   2.059072  22.435477   \n",
              "min     1.000000 -28.600000     0.0     0.0  -0.800000  -6.000000 -44.200000   \n",
              "25%     6.625000  -2.675000     0.0     0.0   0.400000  -1.200000  10.925000   \n",
              "50%     9.650000  -1.050000     0.0     0.0   0.500000   0.500000  24.050000   \n",
              "75%    12.000000   0.000000     0.0     0.0   0.700000   1.625000  32.175000   \n",
              "max    23.600000   0.000000     0.0     0.0   2.400000   5.500000  88.800000   \n",
              "\n",
              "             49.4          8  \n",
              "count   68.000000  68.000000  \n",
              "mean    22.413235   4.897059  \n",
              "std     23.161251   4.584659  \n",
              "min    -33.200000   1.000000  \n",
              "25%      8.475000   1.000000  \n",
              "50%     21.000000   2.000000  \n",
              "75%     38.875000   9.000000  \n",
              "max    115.900000  16.000000  \n",
              "\n",
              "[8 rows x 275 columns]"
            ],
            "text/html": [
              "\n",
              "  <div id=\"df-738693de-74bc-478c-a0eb-c8333c1eb4d8\">\n",
              "    <div class=\"colab-df-container\">\n",
              "      <div>\n",
              "<style scoped>\n",
              "    .dataframe tbody tr th:only-of-type {\n",
              "        vertical-align: middle;\n",
              "    }\n",
              "\n",
              "    .dataframe tbody tr th {\n",
              "        vertical-align: top;\n",
              "    }\n",
              "\n",
              "    .dataframe thead th {\n",
              "        text-align: right;\n",
              "    }\n",
              "</style>\n",
              "<table border=\"1\" class=\"dataframe\">\n",
              "  <thead>\n",
              "    <tr style=\"text-align: right;\">\n",
              "      <th></th>\n",
              "      <th>75</th>\n",
              "      <th>0</th>\n",
              "      <th>190</th>\n",
              "      <th>80</th>\n",
              "      <th>91</th>\n",
              "      <th>193</th>\n",
              "      <th>371</th>\n",
              "      <th>174</th>\n",
              "      <th>121</th>\n",
              "      <th>-16</th>\n",
              "      <th>...</th>\n",
              "      <th>0.0.38</th>\n",
              "      <th>9.0</th>\n",
              "      <th>-0.9</th>\n",
              "      <th>0.0.39</th>\n",
              "      <th>0.0.40</th>\n",
              "      <th>0.9.2</th>\n",
              "      <th>2.9.1</th>\n",
              "      <th>23.3</th>\n",
              "      <th>49.4</th>\n",
              "      <th>8</th>\n",
              "    </tr>\n",
              "  </thead>\n",
              "  <tbody>\n",
              "    <tr>\n",
              "      <th>count</th>\n",
              "      <td>68.000000</td>\n",
              "      <td>68.000000</td>\n",
              "      <td>68.000000</td>\n",
              "      <td>68.000000</td>\n",
              "      <td>68.000000</td>\n",
              "      <td>68.000000</td>\n",
              "      <td>68.000000</td>\n",
              "      <td>68.000000</td>\n",
              "      <td>68.000000</td>\n",
              "      <td>68.000000</td>\n",
              "      <td>...</td>\n",
              "      <td>68.000000</td>\n",
              "      <td>68.000000</td>\n",
              "      <td>68.000000</td>\n",
              "      <td>68.0</td>\n",
              "      <td>68.0</td>\n",
              "      <td>68.000000</td>\n",
              "      <td>68.000000</td>\n",
              "      <td>68.000000</td>\n",
              "      <td>68.000000</td>\n",
              "      <td>68.000000</td>\n",
              "    </tr>\n",
              "    <tr>\n",
              "      <th>mean</th>\n",
              "      <td>46.882353</td>\n",
              "      <td>0.470588</td>\n",
              "      <td>162.352941</td>\n",
              "      <td>71.720588</td>\n",
              "      <td>102.808824</td>\n",
              "      <td>158.102941</td>\n",
              "      <td>369.500000</td>\n",
              "      <td>195.470588</td>\n",
              "      <td>92.941176</td>\n",
              "      <td>20.426471</td>\n",
              "      <td>...</td>\n",
              "      <td>-0.391176</td>\n",
              "      <td>9.535294</td>\n",
              "      <td>-2.079412</td>\n",
              "      <td>0.0</td>\n",
              "      <td>0.0</td>\n",
              "      <td>0.583824</td>\n",
              "      <td>0.230882</td>\n",
              "      <td>21.873529</td>\n",
              "      <td>22.413235</td>\n",
              "      <td>4.897059</td>\n",
              "    </tr>\n",
              "    <tr>\n",
              "      <th>std</th>\n",
              "      <td>17.024591</td>\n",
              "      <td>0.502845</td>\n",
              "      <td>11.826816</td>\n",
              "      <td>22.437871</td>\n",
              "      <td>27.397166</td>\n",
              "      <td>33.600435</td>\n",
              "      <td>43.843514</td>\n",
              "      <td>46.701807</td>\n",
              "      <td>21.549583</td>\n",
              "      <td>55.769332</td>\n",
              "      <td>...</td>\n",
              "      <td>0.723535</td>\n",
              "      <td>4.249768</td>\n",
              "      <td>4.021270</td>\n",
              "      <td>0.0</td>\n",
              "      <td>0.0</td>\n",
              "      <td>0.419883</td>\n",
              "      <td>2.059072</td>\n",
              "      <td>22.435477</td>\n",
              "      <td>23.161251</td>\n",
              "      <td>4.584659</td>\n",
              "    </tr>\n",
              "    <tr>\n",
              "      <th>min</th>\n",
              "      <td>7.000000</td>\n",
              "      <td>0.000000</td>\n",
              "      <td>119.000000</td>\n",
              "      <td>21.000000</td>\n",
              "      <td>55.000000</td>\n",
              "      <td>0.000000</td>\n",
              "      <td>241.000000</td>\n",
              "      <td>123.000000</td>\n",
              "      <td>0.000000</td>\n",
              "      <td>-172.000000</td>\n",
              "      <td>...</td>\n",
              "      <td>-3.500000</td>\n",
              "      <td>1.000000</td>\n",
              "      <td>-28.600000</td>\n",
              "      <td>0.0</td>\n",
              "      <td>0.0</td>\n",
              "      <td>-0.800000</td>\n",
              "      <td>-6.000000</td>\n",
              "      <td>-44.200000</td>\n",
              "      <td>-33.200000</td>\n",
              "      <td>1.000000</td>\n",
              "    </tr>\n",
              "    <tr>\n",
              "      <th>25%</th>\n",
              "      <td>36.750000</td>\n",
              "      <td>0.000000</td>\n",
              "      <td>160.000000</td>\n",
              "      <td>63.750000</td>\n",
              "      <td>84.750000</td>\n",
              "      <td>147.750000</td>\n",
              "      <td>349.500000</td>\n",
              "      <td>159.750000</td>\n",
              "      <td>82.000000</td>\n",
              "      <td>-7.500000</td>\n",
              "      <td>...</td>\n",
              "      <td>-0.625000</td>\n",
              "      <td>6.625000</td>\n",
              "      <td>-2.675000</td>\n",
              "      <td>0.0</td>\n",
              "      <td>0.0</td>\n",
              "      <td>0.400000</td>\n",
              "      <td>-1.200000</td>\n",
              "      <td>10.925000</td>\n",
              "      <td>8.475000</td>\n",
              "      <td>1.000000</td>\n",
              "    </tr>\n",
              "    <tr>\n",
              "      <th>50%</th>\n",
              "      <td>47.000000</td>\n",
              "      <td>0.000000</td>\n",
              "      <td>164.500000</td>\n",
              "      <td>70.000000</td>\n",
              "      <td>96.000000</td>\n",
              "      <td>160.000000</td>\n",
              "      <td>369.500000</td>\n",
              "      <td>184.000000</td>\n",
              "      <td>94.500000</td>\n",
              "      <td>25.000000</td>\n",
              "      <td>...</td>\n",
              "      <td>0.000000</td>\n",
              "      <td>9.650000</td>\n",
              "      <td>-1.050000</td>\n",
              "      <td>0.0</td>\n",
              "      <td>0.0</td>\n",
              "      <td>0.500000</td>\n",
              "      <td>0.500000</td>\n",
              "      <td>24.050000</td>\n",
              "      <td>21.000000</td>\n",
              "      <td>2.000000</td>\n",
              "    </tr>\n",
              "    <tr>\n",
              "      <th>75%</th>\n",
              "      <td>61.250000</td>\n",
              "      <td>1.000000</td>\n",
              "      <td>170.000000</td>\n",
              "      <td>82.000000</td>\n",
              "      <td>108.000000</td>\n",
              "      <td>173.000000</td>\n",
              "      <td>389.000000</td>\n",
              "      <td>231.000000</td>\n",
              "      <td>102.000000</td>\n",
              "      <td>60.250000</td>\n",
              "      <td>...</td>\n",
              "      <td>0.000000</td>\n",
              "      <td>12.000000</td>\n",
              "      <td>0.000000</td>\n",
              "      <td>0.0</td>\n",
              "      <td>0.0</td>\n",
              "      <td>0.700000</td>\n",
              "      <td>1.625000</td>\n",
              "      <td>32.175000</td>\n",
              "      <td>38.875000</td>\n",
              "      <td>9.000000</td>\n",
              "    </tr>\n",
              "    <tr>\n",
              "      <th>max</th>\n",
              "      <td>75.000000</td>\n",
              "      <td>1.000000</td>\n",
              "      <td>182.000000</td>\n",
              "      <td>176.000000</td>\n",
              "      <td>188.000000</td>\n",
              "      <td>294.000000</td>\n",
              "      <td>509.000000</td>\n",
              "      <td>327.000000</td>\n",
              "      <td>143.000000</td>\n",
              "      <td>155.000000</td>\n",
              "      <td>...</td>\n",
              "      <td>0.000000</td>\n",
              "      <td>23.600000</td>\n",
              "      <td>0.000000</td>\n",
              "      <td>0.0</td>\n",
              "      <td>0.0</td>\n",
              "      <td>2.400000</td>\n",
              "      <td>5.500000</td>\n",
              "      <td>88.800000</td>\n",
              "      <td>115.900000</td>\n",
              "      <td>16.000000</td>\n",
              "    </tr>\n",
              "  </tbody>\n",
              "</table>\n",
              "<p>8 rows × 275 columns</p>\n",
              "</div>\n",
              "      <button class=\"colab-df-convert\" onclick=\"convertToInteractive('df-738693de-74bc-478c-a0eb-c8333c1eb4d8')\"\n",
              "              title=\"Convert this dataframe to an interactive table.\"\n",
              "              style=\"display:none;\">\n",
              "        \n",
              "  <svg xmlns=\"http://www.w3.org/2000/svg\" height=\"24px\"viewBox=\"0 0 24 24\"\n",
              "       width=\"24px\">\n",
              "    <path d=\"M0 0h24v24H0V0z\" fill=\"none\"/>\n",
              "    <path d=\"M18.56 5.44l.94 2.06.94-2.06 2.06-.94-2.06-.94-.94-2.06-.94 2.06-2.06.94zm-11 1L8.5 8.5l.94-2.06 2.06-.94-2.06-.94L8.5 2.5l-.94 2.06-2.06.94zm10 10l.94 2.06.94-2.06 2.06-.94-2.06-.94-.94-2.06-.94 2.06-2.06.94z\"/><path d=\"M17.41 7.96l-1.37-1.37c-.4-.4-.92-.59-1.43-.59-.52 0-1.04.2-1.43.59L10.3 9.45l-7.72 7.72c-.78.78-.78 2.05 0 2.83L4 21.41c.39.39.9.59 1.41.59.51 0 1.02-.2 1.41-.59l7.78-7.78 2.81-2.81c.8-.78.8-2.07 0-2.86zM5.41 20L4 18.59l7.72-7.72 1.47 1.35L5.41 20z\"/>\n",
              "  </svg>\n",
              "      </button>\n",
              "      \n",
              "  <style>\n",
              "    .colab-df-container {\n",
              "      display:flex;\n",
              "      flex-wrap:wrap;\n",
              "      gap: 12px;\n",
              "    }\n",
              "\n",
              "    .colab-df-convert {\n",
              "      background-color: #E8F0FE;\n",
              "      border: none;\n",
              "      border-radius: 50%;\n",
              "      cursor: pointer;\n",
              "      display: none;\n",
              "      fill: #1967D2;\n",
              "      height: 32px;\n",
              "      padding: 0 0 0 0;\n",
              "      width: 32px;\n",
              "    }\n",
              "\n",
              "    .colab-df-convert:hover {\n",
              "      background-color: #E2EBFA;\n",
              "      box-shadow: 0px 1px 2px rgba(60, 64, 67, 0.3), 0px 1px 3px 1px rgba(60, 64, 67, 0.15);\n",
              "      fill: #174EA6;\n",
              "    }\n",
              "\n",
              "    [theme=dark] .colab-df-convert {\n",
              "      background-color: #3B4455;\n",
              "      fill: #D2E3FC;\n",
              "    }\n",
              "\n",
              "    [theme=dark] .colab-df-convert:hover {\n",
              "      background-color: #434B5C;\n",
              "      box-shadow: 0px 1px 3px 1px rgba(0, 0, 0, 0.15);\n",
              "      filter: drop-shadow(0px 1px 2px rgba(0, 0, 0, 0.3));\n",
              "      fill: #FFFFFF;\n",
              "    }\n",
              "  </style>\n",
              "\n",
              "      <script>\n",
              "        const buttonEl =\n",
              "          document.querySelector('#df-738693de-74bc-478c-a0eb-c8333c1eb4d8 button.colab-df-convert');\n",
              "        buttonEl.style.display =\n",
              "          google.colab.kernel.accessAllowed ? 'block' : 'none';\n",
              "\n",
              "        async function convertToInteractive(key) {\n",
              "          const element = document.querySelector('#df-738693de-74bc-478c-a0eb-c8333c1eb4d8');\n",
              "          const dataTable =\n",
              "            await google.colab.kernel.invokeFunction('convertToInteractive',\n",
              "                                                     [key], {});\n",
              "          if (!dataTable) return;\n",
              "\n",
              "          const docLinkHtml = 'Like what you see? Visit the ' +\n",
              "            '<a target=\"_blank\" href=https://colab.research.google.com/notebooks/data_table.ipynb>data table notebook</a>'\n",
              "            + ' to learn more about interactive tables.';\n",
              "          element.innerHTML = '';\n",
              "          dataTable['output_type'] = 'display_data';\n",
              "          await google.colab.output.renderOutput(dataTable, element);\n",
              "          const docLink = document.createElement('div');\n",
              "          docLink.innerHTML = docLinkHtml;\n",
              "          element.appendChild(docLink);\n",
              "        }\n",
              "      </script>\n",
              "    </div>\n",
              "  </div>\n",
              "  "
            ]
          },
          "metadata": {},
          "execution_count": 15
        }
      ]
    },
    {
      "cell_type": "code",
      "source": [
        "array = df.values\n",
        "array"
      ],
      "metadata": {
        "colab": {
          "base_uri": "https://localhost:8080/"
        },
        "id": "E2OiM7DQIM4P",
        "outputId": "72876443-a559-41c8-ff04-63d9a4ae0768"
      },
      "execution_count": null,
      "outputs": [
        {
          "output_type": "execute_result",
          "data": {
            "text/plain": [
              "array([[54, 0, 172, ..., 12.3, 49.0, 10],\n",
              "       [44, 0, 168, ..., 12.5, 30.9, 1],\n",
              "       [51, 1, 160, ..., 3.6, -6.3, 2],\n",
              "       ...,\n",
              "       [37, 0, 176, ..., 24.9, 41.4, 1],\n",
              "       [36, 0, 166, ..., -44.2, -33.2, 2],\n",
              "       [32, 1, 155, ..., 25.0, 46.6, 1]], dtype=object)"
            ]
          },
          "metadata": {},
          "execution_count": 16
        }
      ]
    },
    {
      "cell_type": "markdown",
      "source": [
        "# Scaling"
      ],
      "metadata": {
        "id": "VIaIG60fD_Lf"
      }
    },
    {
      "cell_type": "code",
      "source": [
        "data_scaler = StandardScaler()\n",
        "scale = data_scaler.fit_transform(array)"
      ],
      "metadata": {
        "id": "ZqMHk9cQLAhT"
      },
      "execution_count": null,
      "outputs": []
    },
    {
      "cell_type": "code",
      "source": [
        "scale"
      ],
      "metadata": {
        "colab": {
          "base_uri": "https://localhost:8080/"
        },
        "id": "hVJMKipjLf7o",
        "outputId": "bd9895d3-20a5-4580-ea4f-861578df95e9"
      },
      "execution_count": null,
      "outputs": [
        {
          "output_type": "execute_result",
          "data": {
            "text/plain": [
              "array([[ 0.4211888 , -0.94280904,  0.82175839, ..., -0.42988651,\n",
              "         1.15643315,  1.12132267],\n",
              "       [-0.17056406, -0.94280904,  0.4810293 , ..., -0.42090578,\n",
              "         0.36914518, -0.85634152],\n",
              "       [ 0.24366294,  1.06066017, -0.20042888, ..., -0.82054836,\n",
              "        -1.24892733, -0.63660106],\n",
              "       ...,\n",
              "       [-0.58479106, -0.94280904,  1.16248748, ...,  0.13589961,\n",
              "         0.82585919, -0.85634152],\n",
              "       [-0.64396635, -0.94280904,  0.31066476, ..., -2.96694333,\n",
              "        -2.41898514, -0.63660106],\n",
              "       [-0.8806675 ,  1.06066017, -0.62634024, ...,  0.14038997,\n",
              "         1.05204137, -0.85634152]])"
            ]
          },
          "metadata": {},
          "execution_count": 15
        }
      ]
    },
    {
      "cell_type": "markdown",
      "source": [
        "# Equi width range"
      ],
      "metadata": {
        "id": "WMf7gva2MbDZ"
      }
    },
    {
      "cell_type": "code",
      "source": [
        "data_tobin = np.array(df.iloc[:,0])\n",
        "data_tobin"
      ],
      "metadata": {
        "colab": {
          "base_uri": "https://localhost:8080/"
        },
        "id": "b2D-exzTZY02",
        "outputId": "c08500b6-63c3-4de2-872e-a54cdd0231fc"
      },
      "execution_count": null,
      "outputs": [
        {
          "output_type": "execute_result",
          "data": {
            "text/plain": [
              "array([54, 44, 51, 38, 37, 75, 19, 68, 73, 62, 36, 33, 69, 35, 59, 44, 54,\n",
              "       62, 22, 66, 13, 50, 62, 42, 47, 53, 45, 36, 38, 46, 66, 53, 33, 65,\n",
              "       45, 33, 59,  7, 37, 59, 54, 38, 64, 19, 48, 45, 47, 56, 54, 43, 59,\n",
              "       64, 68, 67, 66, 44, 70, 61, 47,  7, 62, 57,  7, 35, 11, 37, 36, 32])"
            ]
          },
          "metadata": {},
          "execution_count": 17
        }
      ]
    },
    {
      "cell_type": "code",
      "source": [
        "bins = np.linspace(min(data_tobin),max(data_tobin),11)\n",
        "bins"
      ],
      "metadata": {
        "colab": {
          "base_uri": "https://localhost:8080/"
        },
        "id": "EU_ugTuagHXp",
        "outputId": "b74ecc89-3875-4040-b35c-963556b95233"
      },
      "execution_count": null,
      "outputs": [
        {
          "output_type": "execute_result",
          "data": {
            "text/plain": [
              "array([ 7. , 13.8, 20.6, 27.4, 34.2, 41. , 47.8, 54.6, 61.4, 68.2, 75. ])"
            ]
          },
          "metadata": {},
          "execution_count": 28
        }
      ]
    },
    {
      "cell_type": "code",
      "source": [
        "cate_width, bin = pd.cut(data_tobin, bins=bins, labels=['1','2','3','4','5','6','7','8','9','10'], include_lowest=True, retbins = True)"
      ],
      "metadata": {
        "id": "GwEwXpFMmwgC"
      },
      "execution_count": null,
      "outputs": []
    },
    {
      "cell_type": "code",
      "source": [
        "cate_width"
      ],
      "metadata": {
        "colab": {
          "base_uri": "https://localhost:8080/"
        },
        "id": "BZ1LgXD-QTd1",
        "outputId": "05623fcc-17c9-4ce3-fac4-0e933c6ed570"
      },
      "execution_count": null,
      "outputs": [
        {
          "output_type": "execute_result",
          "data": {
            "text/plain": [
              "['7', '6', '7', '5', '5', ..., '5', '1', '5', '5', '4']\n",
              "Length: 68\n",
              "Categories (10, object): ['1' < '2' < '3' < '4' ... '7' < '8' < '9' < '10']"
            ]
          },
          "metadata": {},
          "execution_count": 30
        }
      ]
    },
    {
      "cell_type": "code",
      "source": [
        "counts = cate_width.value_counts().sort_index()"
      ],
      "metadata": {
        "id": "ufLgW4bJTWH1"
      },
      "execution_count": null,
      "outputs": []
    },
    {
      "cell_type": "code",
      "source": [
        "df_binned = pd.DataFrame({'value': data_tobin, 'bin': cate_width})\n",
        "\n",
        "for name, group in df_binned.groupby('bin'):\n",
        "    print(f'Category {name} contains values: {list(group[\"value\"])}')"
      ],
      "metadata": {
        "colab": {
          "base_uri": "https://localhost:8080/"
        },
        "id": "4Sc-lu88RPV-",
        "outputId": "506a9a0c-a4f0-41da-81f5-d66b0dfef1b8"
      },
      "execution_count": null,
      "outputs": [
        {
          "output_type": "stream",
          "name": "stdout",
          "text": [
            "Category 1 contains values: [13, 7, 7, 7, 11]\n",
            "Category 2 contains values: [19, 19]\n",
            "Category 3 contains values: [22]\n",
            "Category 4 contains values: [33, 33, 33, 32]\n",
            "Category 5 contains values: [38, 37, 36, 35, 36, 38, 37, 38, 35, 37, 36]\n",
            "Category 6 contains values: [44, 44, 42, 47, 45, 46, 45, 45, 47, 43, 44, 47]\n",
            "Category 7 contains values: [54, 51, 54, 50, 53, 53, 54, 48, 54]\n",
            "Category 8 contains values: [59, 59, 59, 56, 59, 61, 57]\n",
            "Category 9 contains values: [68, 62, 62, 66, 62, 66, 65, 64, 64, 68, 67, 66, 62]\n",
            "Category 10 contains values: [75, 73, 69, 70]\n"
          ]
        }
      ]
    },
    {
      "cell_type": "code",
      "source": [
        "plt.bar(counts.index.astype(int), counts.values)\n",
        "plt.xlabel('Bin')\n",
        "plt.ylabel('Number of values in Bin')\n",
        "plt.show()"
      ],
      "metadata": {
        "colab": {
          "base_uri": "https://localhost:8080/",
          "height": 449
        },
        "id": "qE36qn0jSHx5",
        "outputId": "7a3598e3-9ffa-4d86-b6f2-2738402367a2"
      },
      "execution_count": null,
      "outputs": [
        {
          "output_type": "display_data",
          "data": {
            "text/plain": [
              "<Figure size 640x480 with 1 Axes>"
            ],
            "image/png": "[encoded data removed]"
          },
          "metadata": {}
        }
      ]
    },
    {
      "cell_type": "code",
      "source": [
        "def equi_width_range(arr, bins):\n",
        "    np.sort(arr)\n",
        "    arr_bin = []\n",
        "    w = float((max(arr) - min(arr))/ bins)\n",
        "    bin_range = []\n",
        "    for i in range(bins + 1): # fine each point of bin's range\n",
        "        bin_range = bin_range + [float(min(arr) + w*i)]\n",
        "    print(\"Point of bin's range: \", bin_range)\n",
        "\n",
        "    for i in range(bins):\n",
        "        arr_temp = []\n",
        "        for j in arr:\n",
        "            if (j >= bin_range[i]) & (j <= bin_range[i+1]):\n",
        "                arr_temp += [j]\n",
        "    \n",
        "        arr_bin += [arr_temp]\n",
        "    return arr_bin, bin_range"
      ],
      "metadata": {
        "id": "M7VwcOEeMg6-"
      },
      "execution_count": null,
      "outputs": []
    },
    {
      "cell_type": "code",
      "source": [
        "width_bin_2, width_bin_range = equi_width_range(data_tobin, 10)\n",
        "width_bin_2"
      ],
      "metadata": {
        "colab": {
          "base_uri": "https://localhost:8080/"
        },
        "id": "5jkHX1jbJdz8",
        "outputId": "0928b8d6-28a0-4163-cb6c-4c3516770a8e"
      },
      "execution_count": null,
      "outputs": [
        {
          "output_type": "stream",
          "name": "stdout",
          "text": [
            "Point of bin's range:  [7.0, 13.8, 20.6, 27.4, 34.2, 41.0, 47.8, 54.6, 61.4, 68.19999999999999, 75.0]\n"
          ]
        },
        {
          "output_type": "execute_result",
          "data": {
            "text/plain": [
              "[[7, 7, 7, 11, 13],\n",
              " [19, 19],\n",
              " [22],\n",
              " [32, 33, 33, 33],\n",
              " [35, 35, 36, 36, 36, 37, 37, 37, 38, 38, 38],\n",
              " [42, 43, 44, 44, 44, 45, 45, 45, 46, 47, 47, 47],\n",
              " [48, 50, 51, 53, 53, 54, 54, 54, 54],\n",
              " [56, 57, 59, 59, 59, 59, 61],\n",
              " [62, 62, 62, 62, 64, 64, 65, 66, 66, 66, 67, 68, 68],\n",
              " [69, 70, 73, 75]]"
            ]
          },
          "metadata": {},
          "execution_count": 148
        }
      ]
    },
    {
      "cell_type": "markdown",
      "source": [
        "# Equi depth range"
      ],
      "metadata": {
        "id": "7j94nfmepb3Y"
      }
    },
    {
      "cell_type": "code",
      "source": [
        "cate_depth = pd.qcut(data_tobin, q=10, precision=1, labels=['1','2','3','4','5','6','7','8','9','10'])"
      ],
      "metadata": {
        "id": "mn7wBpeReGh3"
      },
      "execution_count": null,
      "outputs": []
    },
    {
      "cell_type": "code",
      "source": [
        "cate_depth"
      ],
      "metadata": {
        "colab": {
          "base_uri": "https://localhost:8080/"
        },
        "id": "jyga3rT_pmn3",
        "outputId": "44d38eae-1e96-40a9-90c8-5deec7b57f1e"
      },
      "execution_count": null,
      "outputs": [
        {
          "output_type": "execute_result",
          "data": {
            "text/plain": [
              "['1', '1', '1', '1', '1', ..., '10', '10', '10', '10', '10']\n",
              "Length: 68\n",
              "Categories (10, object): ['1' < '2' < '3' < '4' ... '7' < '8' < '9' < '10']"
            ]
          },
          "metadata": {},
          "execution_count": 155
        }
      ]
    },
    {
      "cell_type": "code",
      "source": [
        "counts = cate_depth.value_counts().sort_index()"
      ],
      "metadata": {
        "id": "Oz2JrfBjW7hQ"
      },
      "execution_count": null,
      "outputs": []
    },
    {
      "cell_type": "code",
      "source": [
        "df_binned = pd.DataFrame({'value': data_tobin, 'bin': cate_depth})\n",
        "\n",
        "for name, group in df_binned.groupby('bin'):\n",
        "    print(f'Category {name} contains values: {list(group[\"value\"])}')"
      ],
      "metadata": {
        "colab": {
          "base_uri": "https://localhost:8080/"
        },
        "id": "L5OOFzWsW72W",
        "outputId": "8f83cc7c-be90-41cd-ed0b-515481186b15"
      },
      "execution_count": null,
      "outputs": [
        {
          "output_type": "stream",
          "name": "stdout",
          "text": [
            "Category 1 contains values: [7, 7, 7, 11, 13, 19, 19]\n",
            "Category 2 contains values: [22, 32, 33, 33, 33, 35, 35]\n",
            "Category 3 contains values: [36, 36, 36, 37, 37, 37, 38, 38, 38]\n",
            "Category 4 contains values: [42, 43, 44, 44, 44]\n",
            "Category 5 contains values: [45, 45, 45, 46, 47, 47, 47]\n",
            "Category 6 contains values: [48, 50, 51, 53, 53, 54, 54, 54, 54]\n",
            "Category 7 contains values: [56, 57, 59, 59, 59, 59]\n",
            "Category 8 contains values: [61, 62, 62, 62, 62]\n",
            "Category 9 contains values: [64, 64, 65, 66, 66, 66]\n",
            "Category 10 contains values: [67, 68, 68, 69, 70, 73, 75]\n"
          ]
        }
      ]
    },
    {
      "cell_type": "code",
      "source": [
        "plt.bar(counts.index.astype(int), counts.values)\n",
        "plt.xlabel('Bin')\n",
        "plt.ylabel('Number of values in Bin')\n",
        "plt.show()"
      ],
      "metadata": {
        "colab": {
          "base_uri": "https://localhost:8080/",
          "height": 449
        },
        "id": "HFQmKnQYW-aO",
        "outputId": "42629a61-9bd3-4184-864a-e48db58ad37d"
      },
      "execution_count": null,
      "outputs": [
        {
          "output_type": "display_data",
          "data": {
            "text/plain": [
              "<Figure size 640x480 with 1 Axes>"
            ],
            "image/png": "[encoded data removed]"
          },
          "metadata": {}
        }
      ]
    },
    {
      "cell_type": "code",
      "source": [
        "def equi_depth_range(arr, bins):\n",
        "    np.sort(arr)\n",
        "    n = round(len(arr)/bins)\n",
        "    arr_bin = []\n",
        "    index = 0\n",
        "    for i in range(bins):\n",
        "        arr_temp = []\n",
        "        for j in range(n):\n",
        "            arr_temp += [arr[index]]\n",
        "            index += 1\n",
        "            if index >= len(arr):\n",
        "                break\n",
        "        arr_bin += [arr_temp]\n",
        "    return arr_bin"
      ],
      "metadata": {
        "id": "9Y5_B0D3uCBU"
      },
      "execution_count": null,
      "outputs": []
    },
    {
      "cell_type": "code",
      "source": [
        "depth_bin_2 = equi_depth_range(data_tobin, 10)\n",
        "depth_bin_2"
      ],
      "metadata": {
        "colab": {
          "base_uri": "https://localhost:8080/"
        },
        "id": "UHtM4TRtPSBQ",
        "outputId": "372268de-3052-49d6-bcae-a02b67df1a8a"
      },
      "execution_count": null,
      "outputs": [
        {
          "output_type": "execute_result",
          "data": {
            "text/plain": [
              "[[7, 7, 7, 11, 13, 19, 19],\n",
              " [22, 32, 33, 33, 33, 35, 35],\n",
              " [36, 36, 36, 37, 37, 37, 38],\n",
              " [38, 38, 42, 43, 44, 44, 44],\n",
              " [45, 45, 45, 46, 47, 47, 47],\n",
              " [48, 50, 51, 53, 53, 54, 54],\n",
              " [54, 54, 56, 57, 59, 59, 59],\n",
              " [59, 61, 62, 62, 62, 62, 64],\n",
              " [64, 65, 66, 66, 66, 67, 68],\n",
              " [68, 69, 70, 73, 75]]"
            ]
          },
          "metadata": {},
          "execution_count": 150
        }
      ]
    },
    {
      "cell_type": "markdown",
      "source": [
        "# PCA"
      ],
      "metadata": {
        "id": "fJirqFYIt1Se"
      }
    },
    {
      "cell_type": "markdown",
      "source": [
        "## Load Data"
      ],
      "metadata": {
        "id": "Wqs1xG3dZ1t5"
      }
    },
    {
      "cell_type": "code",
      "source": [
        "pip install unlzw3"
      ],
      "metadata": {
        "colab": {
          "base_uri": "https://localhost:8080/"
        },
        "id": "uobQgUyBYohq",
        "outputId": "afc4cc55-6509-4cf2-b66b-1dc8f9f68995"
      },
      "execution_count": null,
      "outputs": [
        {
          "output_type": "stream",
          "name": "stdout",
          "text": [
            "Looking in indexes: https://pypi.org/simple, https://us-python.pkg.dev/colab-wheels/public/simple/\n",
            "Collecting unlzw3\n",
            "  Downloading unlzw3-0.2.2-py3-none-any.whl (6.1 kB)\n",
            "Installing collected packages: unlzw3\n",
            "Successfully installed unlzw3-0.2.2\n"
          ]
        }
      ]
    },
    {
      "cell_type": "code",
      "source": [
        "url = 'https://archive.ics.uci.edu/ml/machine-learning-databases/musk/clean2.data.Z'"
      ],
      "metadata": {
        "id": "fazKWpJgYccO"
      },
      "execution_count": null,
      "outputs": []
    },
    {
      "cell_type": "code",
      "source": [
        "import urllib.request\n",
        "import unlzw3\n",
        "\n",
        "url = 'https://archive.ics.uci.edu/ml/machine-learning-databases/musk/clean2.data.Z'\n",
        "filename = 'clean2.data'\n",
        "\n",
        "# Download the compressed file\n",
        "urllib.request.urlretrieve(url, filename + '.Z')\n",
        "\n",
        "# Uncompress the file\n",
        "with open(filename + '.Z', 'rb') as f_in:\n",
        "    compressed_data = f_in.read()\n",
        "    uncompressed_data = unlzw3.unlzw(compressed_data)\n",
        "\n",
        "with open(filename, 'wb') as f_out:\n",
        "    f_out.write(uncompressed_data)"
      ],
      "metadata": {
        "id": "7V0ZPFxyYroP"
      },
      "execution_count": null,
      "outputs": []
    },
    {
      "cell_type": "code",
      "source": [
        "df = pd.read_csv('/content/clean2.data')"
      ],
      "metadata": {
        "id": "P8rZDtFTrFra"
      },
      "execution_count": null,
      "outputs": []
    },
    {
      "cell_type": "code",
      "source": [
        "print(df.shape)\n",
        "df"
      ],
      "metadata": {
        "colab": {
          "base_uri": "https://localhost:8080/"
        },
        "id": "gdDqCdXcYStK",
        "outputId": "5456bc51-8df3-4c30-e35f-00e4dddbd6fc"
      },
      "execution_count": null,
      "outputs": [
        {
          "output_type": "stream",
          "name": "stdout",
          "text": [
            "(6597, 169)\n"
          ]
        },
        {
          "output_type": "execute_result",
          "data": {
            "text/plain": [
              "           MUSK-211   211_1+1  46  -108  -60  -69  -117   49   38  -161  ...  \\\n",
              "0          MUSK-211  211_1+10  41  -188 -145   22  -117   -6   57  -171  ...   \n",
              "1          MUSK-211  211_1+11  46  -194 -145   28  -117   73   57  -168  ...   \n",
              "2          MUSK-211  211_1+12  41  -188 -145   22  -117   -7   57  -170  ...   \n",
              "3          MUSK-211  211_1+13  41  -188 -145   22  -117   -7   57  -170  ...   \n",
              "4          MUSK-211  211_1+14  46  -194 -145   28  -117   72   57  -168  ...   \n",
              "...             ...       ...  ..   ...  ...  ...   ...  ...  ...   ...  ...   \n",
              "6592  NON-MUSK-jp13  jp13_2+5  51  -123  -23 -108  -117  134 -160    82  ...   \n",
              "6593  NON-MUSK-jp13  jp13_2+6  44  -104  -19 -105  -117  142 -165    68  ...   \n",
              "6594  NON-MUSK-jp13  jp13_2+7  44  -102  -19 -104  -117   72 -165    65  ...   \n",
              "6595  NON-MUSK-jp13  jp13_2+8  51  -121  -23 -106  -117   63 -161    79  ...   \n",
              "6596  NON-MUSK-jp13  jp13_2+9  51  -122  -23 -106  -117  190 -161    80  ...   \n",
              "\n",
              "      -308.1   52  -7   39  126  156  -50.1  -112   96   1.  \n",
              "0        -59   -2  52  103  136  169    -61  -136   79  1.0  \n",
              "1       -134 -154  57  143  142  165    -67  -145   39  1.0  \n",
              "2        -60   -4  52  104  136  168    -60  -135   80  1.0  \n",
              "3        -60   -4  52  104  137  168    -60  -135   80  1.0  \n",
              "4       -138 -156  56  143  142  164    -67  -145   40  1.0  \n",
              "...      ...  ...  ..  ...  ...  ...    ...   ...  ...  ...  \n",
              "6592     -66  164 -14  -29  107  171    -44  -115  118  0.0  \n",
              "6593     -51  166  -9  150  129  158    -66  -144   -5  0.0  \n",
              "6594      90  117  -8  150  130  159    -66  -144   -6  0.0  \n",
              "6595      86   99 -14  -31  106  171    -44  -116  117  0.0  \n",
              "6596      40  124 -14  -30  107  171    -44  -115  118  0.0  \n",
              "\n",
              "[6597 rows x 169 columns]"
            ],
            "text/html": [
              "\n",
              "  <div id=\"df-e5884fc8-ccd5-4d31-ab4c-53271e52ca19\">\n",
              "    <div class=\"colab-df-container\">\n",
              "      <div>\n",
              "<style scoped>\n",
              "    .dataframe tbody tr th:only-of-type {\n",
              "        vertical-align: middle;\n",
              "    }\n",
              "\n",
              "    .dataframe tbody tr th {\n",
              "        vertical-align: top;\n",
              "    }\n",
              "\n",
              "    .dataframe thead th {\n",
              "        text-align: right;\n",
              "    }\n",
              "</style>\n",
              "<table border=\"1\" class=\"dataframe\">\n",
              "  <thead>\n",
              "    <tr style=\"text-align: right;\">\n",
              "      <th></th>\n",
              "      <th>MUSK-211</th>\n",
              "      <th>211_1+1</th>\n",
              "      <th>46</th>\n",
              "      <th>-108</th>\n",
              "      <th>-60</th>\n",
              "      <th>-69</th>\n",
              "      <th>-117</th>\n",
              "      <th>49</th>\n",
              "      <th>38</th>\n",
              "      <th>-161</th>\n",
              "      <th>...</th>\n",
              "      <th>-308.1</th>\n",
              "      <th>52</th>\n",
              "      <th>-7</th>\n",
              "      <th>39</th>\n",
              "      <th>126</th>\n",
              "      <th>156</th>\n",
              "      <th>-50.1</th>\n",
              "      <th>-112</th>\n",
              "      <th>96</th>\n",
              "      <th>1.</th>\n",
              "    </tr>\n",
              "  </thead>\n",
              "  <tbody>\n",
              "    <tr>\n",
              "      <th>0</th>\n",
              "      <td>MUSK-211</td>\n",
              "      <td>211_1+10</td>\n",
              "      <td>41</td>\n",
              "      <td>-188</td>\n",
              "      <td>-145</td>\n",
              "      <td>22</td>\n",
              "      <td>-117</td>\n",
              "      <td>-6</td>\n",
              "      <td>57</td>\n",
              "      <td>-171</td>\n",
              "      <td>...</td>\n",
              "      <td>-59</td>\n",
              "      <td>-2</td>\n",
              "      <td>52</td>\n",
              "      <td>103</td>\n",
              "      <td>136</td>\n",
              "      <td>169</td>\n",
              "      <td>-61</td>\n",
              "      <td>-136</td>\n",
              "      <td>79</td>\n",
              "      <td>1.0</td>\n",
              "    </tr>\n",
              "    <tr>\n",
              "      <th>1</th>\n",
              "      <td>MUSK-211</td>\n",
              "      <td>211_1+11</td>\n",
              "      <td>46</td>\n",
              "      <td>-194</td>\n",
              "      <td>-145</td>\n",
              "      <td>28</td>\n",
              "      <td>-117</td>\n",
              "      <td>73</td>\n",
              "      <td>57</td>\n",
              "      <td>-168</td>\n",
              "      <td>...</td>\n",
              "      <td>-134</td>\n",
              "      <td>-154</td>\n",
              "      <td>57</td>\n",
              "      <td>143</td>\n",
              "      <td>142</td>\n",
              "      <td>165</td>\n",
              "      <td>-67</td>\n",
              "      <td>-145</td>\n",
              "      <td>39</td>\n",
              "      <td>1.0</td>\n",
              "    </tr>\n",
              "    <tr>\n",
              "      <th>2</th>\n",
              "      <td>MUSK-211</td>\n",
              "      <td>211_1+12</td>\n",
              "      <td>41</td>\n",
              "      <td>-188</td>\n",
              "      <td>-145</td>\n",
              "      <td>22</td>\n",
              "      <td>-117</td>\n",
              "      <td>-7</td>\n",
              "      <td>57</td>\n",
              "      <td>-170</td>\n",
              "      <td>...</td>\n",
              "      <td>-60</td>\n",
              "      <td>-4</td>\n",
              "      <td>52</td>\n",
              "      <td>104</td>\n",
              "      <td>136</td>\n",
              "      <td>168</td>\n",
              "      <td>-60</td>\n",
              "      <td>-135</td>\n",
              "      <td>80</td>\n",
              "      <td>1.0</td>\n",
              "    </tr>\n",
              "    <tr>\n",
              "      <th>3</th>\n",
              "      <td>MUSK-211</td>\n",
              "      <td>211_1+13</td>\n",
              "      <td>41</td>\n",
              "      <td>-188</td>\n",
              "      <td>-145</td>\n",
              "      <td>22</td>\n",
              "      <td>-117</td>\n",
              "      <td>-7</td>\n",
              "      <td>57</td>\n",
              "      <td>-170</td>\n",
              "      <td>...</td>\n",
              "      <td>-60</td>\n",
              "      <td>-4</td>\n",
              "      <td>52</td>\n",
              "      <td>104</td>\n",
              "      <td>137</td>\n",
              "      <td>168</td>\n",
              "      <td>-60</td>\n",
              "      <td>-135</td>\n",
              "      <td>80</td>\n",
              "      <td>1.0</td>\n",
              "    </tr>\n",
              "    <tr>\n",
              "      <th>4</th>\n",
              "      <td>MUSK-211</td>\n",
              "      <td>211_1+14</td>\n",
              "      <td>46</td>\n",
              "      <td>-194</td>\n",
              "      <td>-145</td>\n",
              "      <td>28</td>\n",
              "      <td>-117</td>\n",
              "      <td>72</td>\n",
              "      <td>57</td>\n",
              "      <td>-168</td>\n",
              "      <td>...</td>\n",
              "      <td>-138</td>\n",
              "      <td>-156</td>\n",
              "      <td>56</td>\n",
              "      <td>143</td>\n",
              "      <td>142</td>\n",
              "      <td>164</td>\n",
              "      <td>-67</td>\n",
              "      <td>-145</td>\n",
              "      <td>40</td>\n",
              "      <td>1.0</td>\n",
              "    </tr>\n",
              "    <tr>\n",
              "      <th>...</th>\n",
              "      <td>...</td>\n",
              "      <td>...</td>\n",
              "      <td>...</td>\n",
              "      <td>...</td>\n",
              "      <td>...</td>\n",
              "      <td>...</td>\n",
              "      <td>...</td>\n",
              "      <td>...</td>\n",
              "      <td>...</td>\n",
              "      <td>...</td>\n",
              "      <td>...</td>\n",
              "      <td>...</td>\n",
              "      <td>...</td>\n",
              "      <td>...</td>\n",
              "      <td>...</td>\n",
              "      <td>...</td>\n",
              "      <td>...</td>\n",
              "      <td>...</td>\n",
              "      <td>...</td>\n",
              "      <td>...</td>\n",
              "      <td>...</td>\n",
              "    </tr>\n",
              "    <tr>\n",
              "      <th>6592</th>\n",
              "      <td>NON-MUSK-jp13</td>\n",
              "      <td>jp13_2+5</td>\n",
              "      <td>51</td>\n",
              "      <td>-123</td>\n",
              "      <td>-23</td>\n",
              "      <td>-108</td>\n",
              "      <td>-117</td>\n",
              "      <td>134</td>\n",
              "      <td>-160</td>\n",
              "      <td>82</td>\n",
              "      <td>...</td>\n",
              "      <td>-66</td>\n",
              "      <td>164</td>\n",
              "      <td>-14</td>\n",
              "      <td>-29</td>\n",
              "      <td>107</td>\n",
              "      <td>171</td>\n",
              "      <td>-44</td>\n",
              "      <td>-115</td>\n",
              "      <td>118</td>\n",
              "      <td>0.0</td>\n",
              "    </tr>\n",
              "    <tr>\n",
              "      <th>6593</th>\n",
              "      <td>NON-MUSK-jp13</td>\n",
              "      <td>jp13_2+6</td>\n",
              "      <td>44</td>\n",
              "      <td>-104</td>\n",
              "      <td>-19</td>\n",
              "      <td>-105</td>\n",
              "      <td>-117</td>\n",
              "      <td>142</td>\n",
              "      <td>-165</td>\n",
              "      <td>68</td>\n",
              "      <td>...</td>\n",
              "      <td>-51</td>\n",
              "      <td>166</td>\n",
              "      <td>-9</td>\n",
              "      <td>150</td>\n",
              "      <td>129</td>\n",
              "      <td>158</td>\n",
              "      <td>-66</td>\n",
              "      <td>-144</td>\n",
              "      <td>-5</td>\n",
              "      <td>0.0</td>\n",
              "    </tr>\n",
              "    <tr>\n",
              "      <th>6594</th>\n",
              "      <td>NON-MUSK-jp13</td>\n",
              "      <td>jp13_2+7</td>\n",
              "      <td>44</td>\n",
              "      <td>-102</td>\n",
              "      <td>-19</td>\n",
              "      <td>-104</td>\n",
              "      <td>-117</td>\n",
              "      <td>72</td>\n",
              "      <td>-165</td>\n",
              "      <td>65</td>\n",
              "      <td>...</td>\n",
              "      <td>90</td>\n",
              "      <td>117</td>\n",
              "      <td>-8</td>\n",
              "      <td>150</td>\n",
              "      <td>130</td>\n",
              "      <td>159</td>\n",
              "      <td>-66</td>\n",
              "      <td>-144</td>\n",
              "      <td>-6</td>\n",
              "      <td>0.0</td>\n",
              "    </tr>\n",
              "    <tr>\n",
              "      <th>6595</th>\n",
              "      <td>NON-MUSK-jp13</td>\n",
              "      <td>jp13_2+8</td>\n",
              "      <td>51</td>\n",
              "      <td>-121</td>\n",
              "      <td>-23</td>\n",
              "      <td>-106</td>\n",
              "      <td>-117</td>\n",
              "      <td>63</td>\n",
              "      <td>-161</td>\n",
              "      <td>79</td>\n",
              "      <td>...</td>\n",
              "      <td>86</td>\n",
              "      <td>99</td>\n",
              "      <td>-14</td>\n",
              "      <td>-31</td>\n",
              "      <td>106</td>\n",
              "      <td>171</td>\n",
              "      <td>-44</td>\n",
              "      <td>-116</td>\n",
              "      <td>117</td>\n",
              "      <td>0.0</td>\n",
              "    </tr>\n",
              "    <tr>\n",
              "      <th>6596</th>\n",
              "      <td>NON-MUSK-jp13</td>\n",
              "      <td>jp13_2+9</td>\n",
              "      <td>51</td>\n",
              "      <td>-122</td>\n",
              "      <td>-23</td>\n",
              "      <td>-106</td>\n",
              "      <td>-117</td>\n",
              "      <td>190</td>\n",
              "      <td>-161</td>\n",
              "      <td>80</td>\n",
              "      <td>...</td>\n",
              "      <td>40</td>\n",
              "      <td>124</td>\n",
              "      <td>-14</td>\n",
              "      <td>-30</td>\n",
              "      <td>107</td>\n",
              "      <td>171</td>\n",
              "      <td>-44</td>\n",
              "      <td>-115</td>\n",
              "      <td>118</td>\n",
              "      <td>0.0</td>\n",
              "    </tr>\n",
              "  </tbody>\n",
              "</table>\n",
              "<p>6597 rows × 169 columns</p>\n",
              "</div>\n",
              "      <button class=\"colab-df-convert\" onclick=\"convertToInteractive('df-e5884fc8-ccd5-4d31-ab4c-53271e52ca19')\"\n",
              "              title=\"Convert this dataframe to an interactive table.\"\n",
              "              style=\"display:none;\">\n",
              "        \n",
              "  <svg xmlns=\"http://www.w3.org/2000/svg\" height=\"24px\"viewBox=\"0 0 24 24\"\n",
              "       width=\"24px\">\n",
              "    <path d=\"M0 0h24v24H0V0z\" fill=\"none\"/>\n",
              "    <path d=\"M18.56 5.44l.94 2.06.94-2.06 2.06-.94-2.06-.94-.94-2.06-.94 2.06-2.06.94zm-11 1L8.5 8.5l.94-2.06 2.06-.94-2.06-.94L8.5 2.5l-.94 2.06-2.06.94zm10 10l.94 2.06.94-2.06 2.06-.94-2.06-.94-.94-2.06-.94 2.06-2.06.94z\"/><path d=\"M17.41 7.96l-1.37-1.37c-.4-.4-.92-.59-1.43-.59-.52 0-1.04.2-1.43.59L10.3 9.45l-7.72 7.72c-.78.78-.78 2.05 0 2.83L4 21.41c.39.39.9.59 1.41.59.51 0 1.02-.2 1.41-.59l7.78-7.78 2.81-2.81c.8-.78.8-2.07 0-2.86zM5.41 20L4 18.59l7.72-7.72 1.47 1.35L5.41 20z\"/>\n",
              "  </svg>\n",
              "      </button>\n",
              "      \n",
              "  <style>\n",
              "    .colab-df-container {\n",
              "      display:flex;\n",
              "      flex-wrap:wrap;\n",
              "      gap: 12px;\n",
              "    }\n",
              "\n",
              "    .colab-df-convert {\n",
              "      background-color: #E8F0FE;\n",
              "      border: none;\n",
              "      border-radius: 50%;\n",
              "      cursor: pointer;\n",
              "      display: none;\n",
              "      fill: #1967D2;\n",
              "      height: 32px;\n",
              "      padding: 0 0 0 0;\n",
              "      width: 32px;\n",
              "    }\n",
              "\n",
              "    .colab-df-convert:hover {\n",
              "      background-color: #E2EBFA;\n",
              "      box-shadow: 0px 1px 2px rgba(60, 64, 67, 0.3), 0px 1px 3px 1px rgba(60, 64, 67, 0.15);\n",
              "      fill: #174EA6;\n",
              "    }\n",
              "\n",
              "    [theme=dark] .colab-df-convert {\n",
              "      background-color: #3B4455;\n",
              "      fill: #D2E3FC;\n",
              "    }\n",
              "\n",
              "    [theme=dark] .colab-df-convert:hover {\n",
              "      background-color: #434B5C;\n",
              "      box-shadow: 0px 1px 3px 1px rgba(0, 0, 0, 0.15);\n",
              "      filter: drop-shadow(0px 1px 2px rgba(0, 0, 0, 0.3));\n",
              "      fill: #FFFFFF;\n",
              "    }\n",
              "  </style>\n",
              "\n",
              "      <script>\n",
              "        const buttonEl =\n",
              "          document.querySelector('#df-e5884fc8-ccd5-4d31-ab4c-53271e52ca19 button.colab-df-convert');\n",
              "        buttonEl.style.display =\n",
              "          google.colab.kernel.accessAllowed ? 'block' : 'none';\n",
              "\n",
              "        async function convertToInteractive(key) {\n",
              "          const element = document.querySelector('#df-e5884fc8-ccd5-4d31-ab4c-53271e52ca19');\n",
              "          const dataTable =\n",
              "            await google.colab.kernel.invokeFunction('convertToInteractive',\n",
              "                                                     [key], {});\n",
              "          if (!dataTable) return;\n",
              "\n",
              "          const docLinkHtml = 'Like what you see? Visit the ' +\n",
              "            '<a target=\"_blank\" href=https://colab.research.google.com/notebooks/data_table.ipynb>data table notebook</a>'\n",
              "            + ' to learn more about interactive tables.';\n",
              "          element.innerHTML = '';\n",
              "          dataTable['output_type'] = 'display_data';\n",
              "          await google.colab.output.renderOutput(dataTable, element);\n",
              "          const docLink = document.createElement('div');\n",
              "          docLink.innerHTML = docLinkHtml;\n",
              "          element.appendChild(docLink);\n",
              "        }\n",
              "      </script>\n",
              "    </div>\n",
              "  </div>\n",
              "  "
            ]
          },
          "metadata": {},
          "execution_count": 166
        }
      ]
    },
    {
      "cell_type": "markdown",
      "source": [
        "## Preprocessing"
      ],
      "metadata": {
        "id": "v1MWScoVcRE_"
      }
    },
    {
      "cell_type": "code",
      "source": [
        "df.info()"
      ],
      "metadata": {
        "colab": {
          "base_uri": "https://localhost:8080/"
        },
        "id": "OpnfnG-4Zyj8",
        "outputId": "b3611437-785c-44e8-bb61-15c84ee0ff04"
      },
      "execution_count": null,
      "outputs": [
        {
          "output_type": "stream",
          "name": "stdout",
          "text": [
            "<class 'pandas.core.frame.DataFrame'>\n",
            "RangeIndex: 6597 entries, 0 to 6596\n",
            "Columns: 169 entries, MUSK-211 to 1.\n",
            "dtypes: float64(1), int64(166), object(2)\n",
            "memory usage: 8.5+ MB\n"
          ]
        }
      ]
    },
    {
      "cell_type": "code",
      "source": [
        "object_columns = df.select_dtypes(include=['object']).columns"
      ],
      "metadata": {
        "id": "i40pWOoNaM2w"
      },
      "execution_count": null,
      "outputs": []
    },
    {
      "cell_type": "code",
      "source": [
        "object_columns"
      ],
      "metadata": {
        "colab": {
          "base_uri": "https://localhost:8080/"
        },
        "id": "Cw1e2pCTackJ",
        "outputId": "6119949b-d864-46ea-cf90-83cda1ea6885"
      },
      "execution_count": null,
      "outputs": [
        {
          "output_type": "execute_result",
          "data": {
            "text/plain": [
              "Index(['MUSK-211', '211_1+1'], dtype='object')"
            ]
          },
          "metadata": {},
          "execution_count": 24
        }
      ]
    },
    {
      "cell_type": "code",
      "source": [
        "df[object_columns].value_counts()"
      ],
      "metadata": {
        "colab": {
          "base_uri": "https://localhost:8080/"
        },
        "id": "WieF_s5sad2c",
        "outputId": "c7bb8e82-cb0b-477c-ee65-be46dbcd17d8"
      },
      "execution_count": null,
      "outputs": [
        {
          "output_type": "execute_result",
          "data": {
            "text/plain": [
              "MUSK-211       211_1+1  \n",
              "MUSK-211       211_1+10     1\n",
              "NON-MUSK-f146  f146_1+97    1\n",
              "NON-MUSK-f161  f161_1+2     1\n",
              "               f161_1+1     1\n",
              "NON-MUSK-f150  f150_1+6     1\n",
              "                           ..\n",
              "NON-MUSK-251   251_2+30     1\n",
              "               251_2+3      1\n",
              "               251_2+29     1\n",
              "               251_2+28     1\n",
              "NON-MUSK-jp13  jp13_2+9     1\n",
              "Length: 6597, dtype: int64"
            ]
          },
          "metadata": {},
          "execution_count": 25
        }
      ]
    },
    {
      "cell_type": "code",
      "source": [
        "df = df.drop(object_columns, axis = 1)"
      ],
      "metadata": {
        "id": "ck6cAXslaibo"
      },
      "execution_count": null,
      "outputs": []
    },
    {
      "cell_type": "markdown",
      "source": [
        "## Apply PCA"
      ],
      "metadata": {
        "id": "i2uWDvkCccTH"
      }
    },
    {
      "cell_type": "code",
      "source": [
        "pca = PCA(n_components = 2, random_state = 42)\n",
        "#Select first 20 features to reduce dimension\n",
        "X_pca = pca.fit_transform(df.iloc[:, :20])\n",
        "\n",
        "# Report the eigenvectors and eigenvalues\n",
        "print(\"Eigenvectors:\\n\", pca.components_)\n",
        "print(\"\\nEigenvalues:\\n\", pca.explained_variance_)"
      ],
      "metadata": {
        "colab": {
          "base_uri": "https://localhost:8080/"
        },
        "id": "PJ_pV6Bha0Ll",
        "outputId": "f7f1f28b-6432-4563-8643-e8a6dd153c4a"
      },
      "execution_count": null,
      "outputs": [
        {
          "output_type": "stream",
          "name": "stdout",
          "text": [
            "Eigenvectors:\n",
            " [[ 0.09192988 -0.15401448 -0.18546545  0.00172393  0.04893815 -0.02577116\n",
            "   0.31247331 -0.3188652   0.31481833 -0.06039798 -0.33591374 -0.16985373\n",
            "  -0.12007947 -0.36982161 -0.34123252 -0.0751674   0.31152285 -0.13523938\n",
            "  -0.2120875  -0.2302463 ]\n",
            " [ 0.08178844  0.19448357  0.19657966 -0.30694307  0.01999052  0.13510483\n",
            "  -0.3708247  -0.10694922 -0.34042268  0.22457038 -0.32382199 -0.25751451\n",
            "  -0.05303895 -0.20404978 -0.23231395 -0.05821882 -0.39301095 -0.0776009\n",
            "  -0.23157853 -0.04020607]]\n",
            "\n",
            "Eigenvalues:\n",
            " [56732.98640455 38880.68207853]\n"
          ]
        }
      ]
    },
    {
      "cell_type": "code",
      "source": [
        "print(X_pca.shape)\n",
        "X_pca"
      ],
      "metadata": {
        "colab": {
          "base_uri": "https://localhost:8080/"
        },
        "id": "7OBmuOi6blBu",
        "outputId": "46ae70d5-d38d-48b4-942c-2eeb23f005e5"
      },
      "execution_count": null,
      "outputs": [
        {
          "output_type": "stream",
          "name": "stdout",
          "text": [
            "(6597, 2)\n"
          ]
        },
        {
          "output_type": "execute_result",
          "data": {
            "text/plain": [
              "array([[ 410.06995342,   54.60603893],\n",
              "       [ 396.42475524,   76.06666365],\n",
              "       [ 410.29669051,   54.92842288],\n",
              "       ...,\n",
              "       [-225.52038769,  185.26609681],\n",
              "       [-216.77963418,  187.39590007],\n",
              "       [-233.35313424,  194.10992388]])"
            ]
          },
          "metadata": {},
          "execution_count": 87
        }
      ]
    },
    {
      "cell_type": "markdown",
      "source": [
        "## Report"
      ],
      "metadata": {
        "id": "eacsvzdpLNsj"
      }
    },
    {
      "cell_type": "code",
      "source": [
        "def PCA_function(X , num_components):\n",
        "    \"\"\"\n",
        "        X là dữ liệu đầu vào, kích thước n x d\n",
        "        num_components là số thành phần của giá trị đầu ra \n",
        "    \"\"\"\n",
        "    # Đầu tiên trừ mỗi giá trị với mean dữ liệu (hoặc áp dụng phân phối chuẩn)\n",
        "    X_mean = X - np.mean(X , axis = 0)\n",
        "     \n",
        "    # Dùng hàm np.cov để tính ma trận hiệp phương sai, kích thước d x d\n",
        "    cov_mat = np.cov(X_mean , rowvar = False)\n",
        "     \n",
        "    # Tính trị riêng, vector riêng bằng hàm np.linalg.eigh\n",
        "    # Các vectơ riêng của ma trận Hiệp phương sai là ma trận trực giao, mỗi vector đại diện mỗi trục\n",
        "    # Trị riêng đo lường lượng biến thiên được giữ lại bởi mỗi thành phần chính.\n",
        "    # Trị riêng lớn đối với các Pricipal Component đầu tiên và nhỏ đối với các Pricipal Component tiếp theo. \n",
        "    # Tức là, các Pricipal Component đầu tiên tương ứng với các hướng có lượng biến thiên lớn nhất trong tập dữ liệu\n",
        "    eigen_values , eigen_vectors = np.linalg.eigh(cov_mat)\n",
        "     \n",
        "    # Các trị riêng, vector riêng càng cao thì có độ biến thiên càng cao, nên sắp xếp theo thứ tự giảm dần\n",
        "    sorted_index = np.argsort(eigen_values)[::-1]\n",
        "    sorted_eigenvalue = eigen_values[sorted_index]\n",
        "    sorted_eigenvectors = eigen_vectors[:,sorted_index]\n",
        "\n",
        "    print(\"Eigenvectors:\\n\", sorted_eigenvectors)\n",
        "    print(\"\\nEigenvalues:\\n\", sorted_eigenvalue) \n",
        "\n",
        "    # Rồi chọn num_components trị riêng lớn nhất, ứng với mỗi trị riêng là vector riêng\n",
        "    # Điều này giúp cực đại hóa phương sai dữ liệu. với các hàng là các vector riêng ứng với k trị riêng đã chọn ta tạo được ma trận U\n",
        "    eigenvector_subset = sorted_eigenvectors[:,0:num_components]\n",
        "     \n",
        "    # Trả về dữ liệu đầu ra với kích thước n x num_components\n",
        "    # kích thước tương ứng từng biến: n x num_components = ( (d x num_components).T * (n x d).T).T\n",
        "    #                                                    = ( num_coponents x n ).T = n x num_components\n",
        "    X_reduced = np.dot(eigenvector_subset.T , X_mean.T).T\n",
        "     \n",
        "    return X_reduced"
      ],
      "metadata": {
        "id": "mYTJ7xI8u6KH"
      },
      "execution_count": 91,
      "outputs": []
    },
    {
      "cell_type": "code",
      "source": [
        "X_pca = PCA_function(df.iloc[:,:20], 2)"
      ],
      "metadata": {
        "colab": {
          "base_uri": "https://localhost:8080/"
        },
        "id": "gXmYvTwWvRmM",
        "outputId": "935a088d-feb2-4251-9a04-0a65ec9b6626"
      },
      "execution_count": 92,
      "outputs": [
        {
          "output_type": "stream",
          "name": "stdout",
          "text": [
            "Eigenvectors:\n",
            " [[-9.19298793e-02  8.17883823e-02 -9.77313974e-02  1.20534976e-01\n",
            "  -1.25370628e-02  9.09221231e-02 -5.29796907e-02  2.47148876e-01\n",
            "  -1.18316911e-01  6.05492237e-02 -3.36971098e-02  9.65088269e-02\n",
            "  -2.68701389e-01  8.72968011e-01 -7.65287848e-02  1.25375667e-01\n",
            "  -3.38925289e-02  9.36066468e-03 -2.41415797e-02 -5.17980506e-02]\n",
            " [ 1.54014479e-01  1.94483546e-01  2.56476485e-01 -7.73703321e-01\n",
            "  -2.79192804e-01  2.86744901e-01  1.07291086e-01 -1.29537861e-01\n",
            "  -1.00903996e-01  1.18865634e-02  5.98357259e-02  8.34212009e-03\n",
            "  -8.11400008e-03  1.50974796e-01 -4.40760289e-02 -2.09719745e-01\n",
            "  -5.02787643e-02  5.57603600e-03  1.01353122e-02 -1.33080088e-02]\n",
            " [ 1.85465454e-01  1.96579667e-01  7.36092319e-02 -1.45790682e-01\n",
            "  -2.58027055e-02 -5.37165359e-02 -1.13177114e-02 -8.95157563e-02\n",
            "  -9.06027104e-02 -5.28305697e-02  2.74643085e-03  3.62557317e-02\n",
            "   7.99291769e-02 -5.09826604e-02  1.13722765e-02  9.15044213e-01\n",
            "   1.68553736e-01  1.84463980e-02 -8.98896701e-03  3.18877967e-02]\n",
            " [-1.72390491e-03 -3.06942955e-01  2.40087196e-01 -1.04302541e-01\n",
            "   6.62463970e-02 -1.53465540e-01 -1.63640380e-01 -2.73881588e-01\n",
            "   2.67503973e-01  9.38299548e-03 -2.99508215e-01  6.72449614e-01\n",
            "  -2.90637805e-01  8.11440728e-03 -6.12152091e-02  2.11874987e-02\n",
            "  -9.95319255e-03  3.18797305e-02 -2.90004624e-02  5.74782041e-02]\n",
            " [-4.89381662e-02  1.99904177e-02 -5.40142315e-03  1.93260131e-01\n",
            "   6.18776329e-02 -1.18800395e-01  6.86557600e-01 -6.16807578e-01\n",
            "  -1.15900330e-01  1.56522481e-01  1.44812716e-01  1.92101605e-02\n",
            "  -1.27115814e-02  1.63619348e-01 -5.43855664e-02 -8.77738411e-03\n",
            "  -2.26632652e-02 -9.91175251e-03 -1.47698946e-02  1.35401071e-03]\n",
            " [ 2.57711605e-02  1.35104824e-01  3.21885911e-01  4.61220781e-01\n",
            "  -7.55530570e-01  1.25335975e-01 -1.77261227e-01 -1.64524711e-01\n",
            "   1.39982107e-02  7.08599280e-02 -9.63873128e-02 -2.70165371e-02\n",
            "   2.61456128e-02 -2.24558240e-02 -4.38425959e-02 -1.65016753e-02\n",
            "   1.35662024e-02 -1.54169315e-02  2.13719707e-02 -1.49534774e-02]\n",
            " [-3.12473333e-01 -3.70824852e-01 -4.08007041e-02 -1.33444313e-01\n",
            "  -6.94056901e-02  7.44646069e-02 -2.80888318e-01 -1.23030168e-01\n",
            "  -9.14692938e-02  6.53146593e-01  3.35467017e-01 -4.98213720e-02\n",
            "   8.27289422e-02  1.16944892e-02  2.32433354e-01  1.38322044e-01\n",
            "  -5.08441527e-02  7.72049484e-02  8.31312945e-03  4.73195877e-02]\n",
            " [ 3.18865210e-01 -1.06949191e-01  9.17643564e-02  1.01303570e-01\n",
            "   1.16078346e-01 -2.56938496e-02 -1.89698756e-01 -1.18142777e-01\n",
            "  -1.86135485e-01 -1.65942501e-01  1.06015178e-01  2.39481710e-01\n",
            "   6.27751379e-01  2.52053112e-01  2.45993935e-01 -9.19692859e-02\n",
            "  -1.76136725e-01 -2.83774375e-01 -1.81604441e-01  4.73905382e-02]\n",
            " [-3.14818329e-01 -3.40422640e-01 -3.80559689e-02 -5.85576192e-02\n",
            "  -1.07961247e-01  2.68741588e-02 -6.35267722e-02 -4.69421543e-02\n",
            "  -3.59884340e-01 -3.31364689e-01  6.32340409e-02 -1.71405036e-02\n",
            "   1.04868190e-01 -6.78492293e-02 -6.26906629e-01  1.17477374e-01\n",
            "  -2.94663922e-01  2.51887016e-02 -8.94074861e-02 -5.21392333e-03]\n",
            " [ 6.03979864e-02  2.24570458e-01 -5.31552807e-01  1.30734288e-03\n",
            "  -1.90256089e-01  1.27096095e-01  6.03333268e-02  1.36526181e-02\n",
            "  -1.24631877e-01  9.61846816e-02 -1.18803283e-01  3.61375771e-01\n",
            "   1.70251538e-03 -1.87862165e-01  1.51524114e-01  1.48746710e-02\n",
            "  -3.34360291e-01  3.00207401e-01 -3.29032872e-01 -2.62757887e-01]\n",
            " [ 3.35913734e-01 -3.23822034e-01 -1.03321143e-01 -9.10508203e-02\n",
            "  -8.85723913e-02 -2.64334157e-01 -5.77543714e-02 -8.21560994e-02\n",
            "   3.31122321e-02  1.29812971e-01 -2.36620509e-01 -2.72207433e-01\n",
            "   1.62724125e-01  1.53163530e-01 -1.97131763e-01 -7.37359583e-02\n",
            "   3.69986787e-01  2.70861499e-01 -2.22927136e-01 -4.16305348e-01]\n",
            " [ 1.69853725e-01 -2.57514499e-01  1.37405408e-01  7.22662602e-02\n",
            "   2.32169109e-03  3.13531152e-01  3.05129424e-01  3.34136906e-01\n",
            "  -9.07031185e-02  2.50260193e-01 -1.30780880e-02  1.10315943e-01\n",
            "  -1.52602077e-01 -1.82349511e-01 -1.00724969e-01  7.99392527e-02\n",
            "   9.34131000e-02 -5.31056005e-01 -2.91336251e-01 -2.13960329e-01]\n",
            " [ 1.20079476e-01 -5.30389250e-02 -4.83825210e-01 -7.68196874e-02\n",
            "  -1.42781518e-01  4.23979458e-02 -9.14408899e-04 -6.92137604e-02\n",
            "  -1.63108459e-01  2.06466815e-01 -4.37547876e-01  2.90213102e-02\n",
            "   1.13139800e-01  2.95368627e-03 -1.42363446e-01 -3.89923935e-02\n",
            "   1.41961130e-01 -2.99152427e-01  3.33120903e-01  4.46171605e-01]\n",
            " [ 3.69821605e-01 -2.04049831e-01  4.36718431e-02  4.98499253e-02\n",
            "  -8.46017430e-03  1.22204099e-02 -1.19991110e-02 -3.08583032e-02\n",
            "  -1.04139990e-01 -4.90041896e-02 -1.02805816e-02 -2.95408132e-01\n",
            "  -3.56303022e-01 -5.10673987e-03  1.26314446e-01  1.20899296e-02\n",
            "  -2.23079499e-01  1.94345590e-01 -4.14236703e-01  5.59519372e-01]\n",
            " [ 3.41232516e-01 -2.32313983e-01 -1.14004917e-01 -4.89219140e-04\n",
            "  -3.93256547e-02  7.00685592e-03 -6.10199176e-02 -1.40920511e-01\n",
            "   1.00196865e-01 -8.85257932e-02  3.51781683e-02 -1.99097271e-01\n",
            "  -2.43469613e-01  1.60488452e-02  1.22272404e-01  1.19722980e-01\n",
            "  -4.93123347e-01 -1.75305951e-01  4.85983484e-01 -3.65732464e-01]\n",
            " [ 7.51674008e-02 -5.82188040e-02 -3.81833652e-02 -1.26645841e-01\n",
            "  -3.90324294e-01 -6.69976266e-01  2.37343216e-01  3.86268431e-01\n",
            "   8.59116384e-02  4.85972069e-02  2.96988726e-01  1.70182695e-01\n",
            "   3.03375574e-02  1.21576183e-02 -1.27824905e-02 -9.65412191e-03\n",
            "  -1.12314611e-01 -7.08259845e-02  5.18355606e-02  1.34749404e-01]\n",
            " [-3.11522836e-01 -3.93010875e-01 -1.46385629e-01 -9.68820981e-02\n",
            "  -2.88289734e-01  1.58052513e-01  2.51217416e-01  7.50942583e-03\n",
            "   1.20069259e-01 -4.48347815e-01 -1.25988774e-01 -5.13293770e-02\n",
            "   3.98465271e-02  9.09677640e-02  4.99382995e-01  9.50530540e-02\n",
            "   2.04127764e-01 -2.02899356e-02 -4.60597524e-02  3.72205031e-05]\n",
            " [ 1.35239385e-01 -7.76008756e-02  6.85016306e-02  7.81526751e-02\n",
            "   9.29906559e-03 -7.42049591e-02 -6.19703169e-02  3.49918339e-02\n",
            "  -7.12626321e-01 -1.24629019e-01  1.45419802e-01  2.09952941e-01\n",
            "  -2.65816642e-01 -1.24420482e-01  2.00534726e-01 -1.36940774e-01\n",
            "   3.34493105e-01  1.64052212e-01  2.69930372e-01 -9.41680087e-02]\n",
            " [ 2.12087510e-01 -2.31578489e-01  1.52989554e-01  1.28772976e-01\n",
            "   4.86213613e-02  3.45548558e-01  2.97416300e-01  2.83770714e-01\n",
            "   1.24589060e-01  8.63995561e-02  5.38598418e-03  1.67844843e-01\n",
            "   2.98642994e-01  2.25613764e-02 -1.06554932e-01  5.58171549e-02\n",
            "  -6.93734779e-02  5.22804216e-01  3.41457233e-01  1.43413888e-01]\n",
            " [ 2.30246300e-01 -4.02060841e-02 -3.66544355e-01  5.59566408e-02\n",
            "  -9.09426928e-02  2.47468452e-01 -1.46241096e-01 -1.58432032e-01\n",
            "   3.03960519e-01 -1.78545423e-01  5.99347226e-01  1.65623870e-01\n",
            "  -1.13854079e-01  1.46422662e-02 -2.27243740e-01 -4.19144173e-02\n",
            "   3.24342444e-01 -4.35310308e-02 -2.88684707e-02  8.04173789e-02]]\n",
            "\n",
            "Eigenvalues:\n",
            " [56732.98640456 38880.68207857  6966.77219679  6419.82025634\n",
            "  5769.14457226  5242.89623299  4095.94368457  3912.73502967\n",
            "  3460.38649124  3223.67599618  2863.78539505  2399.24599583\n",
            "  2215.60803497  1797.02198688  1380.44446538  1022.73039851\n",
            "   815.80940551   544.75541549   480.05245148   389.41386085]\n"
          ]
        }
      ]
    },
    {
      "cell_type": "code",
      "source": [
        "print(X_pca.shape)\n",
        "X_pca"
      ],
      "metadata": {
        "colab": {
          "base_uri": "https://localhost:8080/"
        },
        "id": "3CtcHFKwvoTt",
        "outputId": "636d53ee-ed1b-4aba-a27c-e4acf033d82c"
      },
      "execution_count": 93,
      "outputs": [
        {
          "output_type": "stream",
          "name": "stdout",
          "text": [
            "(6597, 2)\n"
          ]
        },
        {
          "output_type": "execute_result",
          "data": {
            "text/plain": [
              "array([[-410.06993107,   54.60625502],\n",
              "       [-396.42470111,   76.06703287],\n",
              "       [-410.29666742,   54.92864098],\n",
              "       ...,\n",
              "       [ 225.52036202,  185.26604483],\n",
              "       [ 216.77960661,  187.39582606],\n",
              "       [ 233.35310676,  194.10984821]])"
            ]
          },
          "metadata": {},
          "execution_count": 93
        }
      ]
    },
    {
      "cell_type": "code",
      "source": [],
      "metadata": {
        "id": "Eh2dYgIfv1yZ"
      },
      "execution_count": null,
      "outputs": []
    }
  ]
}